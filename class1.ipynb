{
 "cells": [
  {
   "cell_type": "code",
   "execution_count": null,
   "metadata": {},
   "outputs": [],
   "source": [
    "print(\"Hello\")"
   ]
  },
  {
   "cell_type": "markdown",
   "metadata": {},
   "source": [
    "# Our first class"
   ]
  },
  {
   "cell_type": "markdown",
   "metadata": {},
   "source": [
    "first class\n"
   ]
  },
  {
   "cell_type": "markdown",
   "metadata": {},
   "source": [
    "This is our first class in Dhoraji Association"
   ]
  },
  {
   "cell_type": "code",
   "execution_count": null,
   "metadata": {},
   "outputs": [],
   "source": [
    "print (\"Hello\")"
   ]
  },
  {
   "cell_type": "code",
   "execution_count": null,
   "metadata": {},
   "outputs": [],
   "source": [
    "print(\"hello world \")"
   ]
  },
  {
   "cell_type": "code",
   "execution_count": null,
   "metadata": {},
   "outputs": [],
   "source": [
    "print (\"Hello Python!\")"
   ]
  },
  {
   "cell_type": "code",
   "execution_count": null,
   "metadata": {},
   "outputs": [],
   "source": [
    "print(\"anas\" , \"dsl\" , sep=\"***\")"
   ]
  },
  {
   "cell_type": "code",
   "execution_count": null,
   "metadata": {},
   "outputs": [],
   "source": [
    "print(\"anas\" , \"dsl\" )"
   ]
  },
  {
   "cell_type": "code",
   "execution_count": null,
   "metadata": {},
   "outputs": [],
   "source": [
    "print (123+4)"
   ]
  },
  {
   "cell_type": "code",
   "execution_count": null,
   "metadata": {},
   "outputs": [],
   "source": [
    "print (123, \"hello\")"
   ]
  },
  {
   "cell_type": "code",
   "execution_count": null,
   "metadata": {},
   "outputs": [],
   "source": [
    "print (\"This is AI class\\nDhoraji\")"
   ]
  },
  {
   "cell_type": "code",
   "execution_count": null,
   "metadata": {},
   "outputs": [],
   "source": [
    "print (\"Languages:\\nPython\\nRuby\\nJavaScript\")"
   ]
  },
  {
   "cell_type": "code",
   "execution_count": null,
   "metadata": {},
   "outputs": [],
   "source": [
    "print (\"Languages:\\n\\tpython\\n\\tc\\n\\tJavaScript\")"
   ]
  },
  {
   "cell_type": "code",
   "execution_count": null,
   "metadata": {},
   "outputs": [],
   "source": [
    "print (\"Anas\")"
   ]
  },
  {
   "cell_type": "code",
   "execution_count": null,
   "metadata": {},
   "outputs": [],
   "source": [
    "num = 10+2+5+6+4+8+6+8\n",
    "print (num)"
   ]
  },
  {
   "cell_type": "code",
   "execution_count": null,
   "metadata": {},
   "outputs": [],
   "source": [
    "num = 10\n",
    "print (num)\n",
    "type (num)"
   ]
  },
  {
   "cell_type": "code",
   "execution_count": null,
   "metadata": {},
   "outputs": [],
   "source": [
    "num = \"Pakistan Zindabad\"\n",
    "print (num)\n",
    "type (num)"
   ]
  },
  {
   "cell_type": "code",
   "execution_count": null,
   "metadata": {},
   "outputs": [],
   "source": [
    "num = \"Pakistan Zindabad\"\n",
    "print (num)\n",
    "type (num)\n",
    "id (num)"
   ]
  },
  {
   "cell_type": "code",
   "execution_count": null,
   "metadata": {},
   "outputs": [],
   "source": [
    "num = \"Pakistan Zindabad\"\n",
    "print (num)\n",
    "print(type (num))\n",
    "id (num)"
   ]
  },
  {
   "cell_type": "code",
   "execution_count": null,
   "metadata": {},
   "outputs": [],
   "source": [
    "message = \"Dhoraji Association Karachi\"\n",
    "print(message)"
   ]
  },
  {
   "cell_type": "code",
   "execution_count": null,
   "metadata": {},
   "outputs": [],
   "source": [
    "a = 10 +1\n",
    "a"
   ]
  },
  {
   "cell_type": "code",
   "execution_count": null,
   "metadata": {},
   "outputs": [],
   "source": [
    "a = 10\n",
    "a\n",
    "print (a)"
   ]
  },
  {
   "cell_type": "code",
   "execution_count": null,
   "metadata": {},
   "outputs": [],
   "source": [
    "num_1 = 150\n",
    "print (num_1 + 20)"
   ]
  },
  {
   "cell_type": "code",
   "execution_count": null,
   "metadata": {},
   "outputs": [],
   "source": [
    "num_1 = 20\n",
    "num_2 = 30\n",
    "num_3 = 40\n",
    "print (num_1+num_2+num_3 )"
   ]
  },
  {
   "cell_type": "code",
   "execution_count": null,
   "metadata": {},
   "outputs": [],
   "source": [
    "original_number=15\n",
    "new_number=20\n",
    "total=original_number+new_number\n",
    "print (total)"
   ]
  },
  {
   "cell_type": "code",
   "execution_count": null,
   "metadata": {},
   "outputs": [],
   "source": [
    "num_1 =20\n",
    "num_2 =50\n",
    "new_num =num_1+num_2\n",
    "print(new_num)"
   ]
  },
  {
   "cell_type": "code",
   "execution_count": null,
   "metadata": {},
   "outputs": [],
   "source": [
    "num1=5\n",
    "num2=5\n",
    "num3=5\n",
    "num4=5\n",
    "num5=5\n",
    "num6=5"
   ]
  },
  {
   "cell_type": "code",
   "execution_count": null,
   "metadata": {},
   "outputs": [],
   "source": [
    "num =10\n",
    "another_num=1.5\n",
    "total=num+another_num\n",
    "print(int(total)) #type casting"
   ]
  },
  {
   "cell_type": "code",
   "execution_count": null,
   "metadata": {},
   "outputs": [],
   "source": [
    "name = \"Shahzad Ahsan\"\n",
    "name = \"Muhammad Ali\"\n",
    "print (name)"
   ]
  },
  {
   "cell_type": "code",
   "execution_count": null,
   "metadata": {},
   "outputs": [],
   "source": [
    "message = \"Good Evening\"\n",
    "print (message)\n",
    "message = \"How are you all\"\n",
    "print (message)\n"
   ]
  },
  {
   "cell_type": "code",
   "execution_count": null,
   "metadata": {},
   "outputs": [],
   "source": [
    "First_name = \"muhammad\"\n",
    "print(First_name.title())"
   ]
  },
  {
   "cell_type": "code",
   "execution_count": null,
   "metadata": {},
   "outputs": [],
   "source": [
    "Middle_name = \"HaMZa\"\n",
    "print(Middle_name.lower())"
   ]
  },
  {
   "cell_type": "code",
   "execution_count": null,
   "metadata": {},
   "outputs": [],
   "source": [
    "last_name = \"khan\"\n",
    "print(last_name.upper())"
   ]
  },
  {
   "cell_type": "code",
   "execution_count": null,
   "metadata": {},
   "outputs": [],
   "source": [
    "FirstName=\"Muhammad\"\n",
    "MiddleName=\"Anas\"\n",
    "LastName=\"SaYa\"\n",
    "full_name =FirstName + \" \"+ MiddleName + \" \" + LastName\n",
    "print (full_name)\n",
    "print (full_name.title())\n",
    "print (full_name.lower())\n",
    "print (full_name.upper())"
   ]
  },
  {
   "cell_type": "code",
   "execution_count": null,
   "metadata": {},
   "outputs": [],
   "source": [
    "#how to take input from user\n",
    "num1 = int(input(\"Enter first number: \"))\n",
    "num2 = int(input (\"Enter second number: \"))\n",
    "\n",
    "\n",
    "total = num1 + num2\n",
    "print(total)"
   ]
  },
  {
   "cell_type": "code",
   "execution_count": null,
   "metadata": {},
   "outputs": [],
   "source": [
    "#how to take input from user\n",
    "num1 = int(input(\"Enter first number: \"))\n",
    "num2 = int(input(\"Enter second number: \"))\n",
    "\n",
    "\n",
    "print(\"the total of two inputs \"+ (str(num1+num2)))"
   ]
  },
  {
   "cell_type": "code",
   "execution_count": null,
   "metadata": {},
   "outputs": [],
   "source": [
    "#how to take input from user\n",
    "num1 = int(input(\"Enter first number: \"))\n",
    "num2 = int(input(\"Enter second number: \"))\n",
    "\n",
    "\n",
    "thetotaloftwooutputs = num1 +num2\n",
    "print(thetotaloftwooutputs)"
   ]
  },
  {
   "cell_type": "code",
   "execution_count": null,
   "metadata": {},
   "outputs": [],
   "source": [
    "#how to take input from user\n",
    "num1 = input(\"Enter first number: \")\n",
    "num2 = input (\"Enter second number: \")\n",
    "\n",
    "\n",
    "total = num1 + num2\n",
    "print(total)"
   ]
  },
  {
   "cell_type": "code",
   "execution_count": null,
   "metadata": {},
   "outputs": [],
   "source": [
    "F_name = \"Anas\"\n",
    "L_name = \"Saya\"\n",
    "Full_Name = F_name+ \" \"+L_name\n",
    "print(\"Hello, How are you \"+ Full_Name +\" ? \")"
   ]
  },
  {
   "cell_type": "code",
   "execution_count": null,
   "metadata": {},
   "outputs": [],
   "source": [
    "whats_left_over= 10 % 3\n",
    "print (whats_left_over)"
   ]
  },
  {
   "cell_type": "code",
   "execution_count": null,
   "metadata": {},
   "outputs": [],
   "source": [
    "whats_left_over= 3 % 9\n",
    "print (whats_left_over)"
   ]
  },
  {
   "cell_type": "code",
   "execution_count": null,
   "metadata": {},
   "outputs": [],
   "source": [
    "age = 2\n",
    "age = age +1\n",
    "print (age)"
   ]
  },
  {
   "cell_type": "code",
   "execution_count": null,
   "metadata": {},
   "outputs": [],
   "source": [
    "age =12\n",
    "age +=50\n",
    "print(age)"
   ]
  },
  {
   "cell_type": "code",
   "execution_count": null,
   "metadata": {},
   "outputs": [],
   "source": [
    "print (\"Hello World\")\n",
    "print (\"Hello Python\")"
   ]
  },
  {
   "cell_type": "code",
   "execution_count": null,
   "metadata": {},
   "outputs": [],
   "source": [
    "print (\"Hello World\", end='\\n')\n",
    "print (\"Hello Python\")"
   ]
  },
  {
   "cell_type": "code",
   "execution_count": null,
   "metadata": {},
   "outputs": [],
   "source": [
    "print (\"Hello World\", end='\\t')\n",
    "print (\"Hello Python\")"
   ]
  },
  {
   "cell_type": "code",
   "execution_count": null,
   "metadata": {},
   "outputs": [],
   "source": [
    "print (\"Hello World\", end=' ')\n",
    "print (\"Hello Python\")"
   ]
  },
  {
   "cell_type": "code",
   "execution_count": null,
   "metadata": {},
   "outputs": [],
   "source": [
    "print (\"Hello World\",\"Hello Class\", sep=\"<separator>\", end='\\t')\n",
    "print (\"Hello Python\")"
   ]
  },
  {
   "cell_type": "code",
   "execution_count": null,
   "metadata": {},
   "outputs": [],
   "source": [
    "a=10 #assign a value 10 to a variable a\n",
    "b=20/2\n",
    "a==b #compare the value in a with the value in b\n",
    "tomatoPrice=100\n",
    "if tomatoPrice==100:\n",
    "    print(\"Buy 1 kg\")\n",
    "    #indentation\n",
    "else:\n",
    "    print(\"Buy 1/2 kg\")"
   ]
  },
  {
   "cell_type": "code",
   "execution_count": null,
   "metadata": {},
   "outputs": [],
   "source": [
    "a=10 #assign a value 10 to a variable a\n",
    "b=20/2\n",
    "a==b #compare the value in a with the value in b\n",
    "tomatoPrice=110\n",
    "if tomatoPrice==100:\n",
    "    print(\"Buy 1 kg\")\n",
    "    #indentation\n",
    "else:\n",
    "    print(\"Buy 1/2 kg\")"
   ]
  },
  {
   "cell_type": "code",
   "execution_count": null,
   "metadata": {},
   "outputs": [],
   "source": []
  },
  {
   "cell_type": "code",
   "execution_count": null,
   "metadata": {},
   "outputs": [],
   "source": [
    "tomatoprice=int(input(\"what is the price of 1 kg tomato: \" ))\n",
    "if tomatoprice==100:\n",
    "    print(\"Buy 1 kg\")\n",
    "else:\n",
    "    print(\"Buy 1/2 kg\")"
   ]
  },
  {
   "cell_type": "code",
   "execution_count": null,
   "metadata": {},
   "outputs": [],
   "source": [
    "if \"abc\"==100:\n",
    "    print(\"valid\")\n",
    "else:\n",
    "    print(\"invalid comaprison\")"
   ]
  },
  {
   "cell_type": "code",
   "execution_count": null,
   "metadata": {},
   "outputs": [],
   "source": [
    "num = int(input(\"Number\"))\n",
    "if num % 2 == 0:\n",
    "          print(\"Even Number\")\n",
    "else:\n",
    "          print(\"Odd Number\")\n",
    "    "
   ]
  },
  {
   "cell_type": "code",
   "execution_count": null,
   "metadata": {},
   "outputs": [],
   "source": [
    "num = int(input(\"Number\"))  # == (compare)\n",
    "if num % 2 == 0:\n",
    "          print(\"Even Number\")\n",
    "else:\n",
    "          print(\"Odd Number\")\n",
    "    "
   ]
  },
  {
   "cell_type": "code",
   "execution_count": null,
   "metadata": {},
   "outputs": [],
   "source": [
    "num =int(input())\n",
    "quotient = num/2\n",
    "if type(quotient)==\"int\":\n",
    "    print(\"even\")\n",
    "else:\n",
    "    print(\"odd\")"
   ]
  },
  {
   "cell_type": "code",
   "execution_count": null,
   "metadata": {},
   "outputs": [],
   "source": [
    "2+3\n",
    "\n",
    "#integer +integer =integer\n"
   ]
  },
  {
   "cell_type": "code",
   "execution_count": null,
   "metadata": {},
   "outputs": [],
   "source": [
    "2+3.5\n",
    "\n",
    "#integer +float = float"
   ]
  },
  {
   "cell_type": "code",
   "execution_count": null,
   "metadata": {},
   "outputs": [],
   "source": [
    "a=2+3.5\n",
    "type(a)\n",
    "#integer +float = float"
   ]
  },
  {
   "cell_type": "code",
   "execution_count": null,
   "metadata": {},
   "outputs": [],
   "source": [
    ".5+.5\n",
    "#float + float = float"
   ]
  },
  {
   "cell_type": "code",
   "execution_count": null,
   "metadata": {},
   "outputs": [],
   "source": [
    "1/1\n",
    "#integer divide integer = float"
   ]
  },
  {
   "cell_type": "code",
   "execution_count": null,
   "metadata": {},
   "outputs": [],
   "source": [
    "1//1\n",
    "# double divide means answer we need is in integer"
   ]
  },
  {
   "cell_type": "code",
   "execution_count": null,
   "metadata": {},
   "outputs": [],
   "source": [
    "5/2\n"
   ]
  },
  {
   "cell_type": "code",
   "execution_count": null,
   "metadata": {},
   "outputs": [],
   "source": [
    "5//2"
   ]
  },
  {
   "cell_type": "code",
   "execution_count": null,
   "metadata": {},
   "outputs": [],
   "source": [
    "a=1\n",
    "a+= 10\n",
    "a"
   ]
  },
  {
   "cell_type": "code",
   "execution_count": null,
   "metadata": {},
   "outputs": [],
   "source": [
    "a= 10\n",
    "a= a+2\n",
    "a"
   ]
  },
  {
   "cell_type": "code",
   "execution_count": null,
   "metadata": {},
   "outputs": [],
   "source": [
    "age = 12\n",
    "age += 50\n",
    "age"
   ]
  },
  {
   "cell_type": "code",
   "execution_count": null,
   "metadata": {},
   "outputs": [],
   "source": [
    "age = 12\n",
    "age -= 50\n",
    "age"
   ]
  },
  {
   "cell_type": "code",
   "execution_count": null,
   "metadata": {},
   "outputs": [],
   "source": [
    "age = 12\n",
    "age *= 50\n",
    "age"
   ]
  },
  {
   "cell_type": "code",
   "execution_count": null,
   "metadata": {},
   "outputs": [],
   "source": [
    "age = 12\n",
    "age /= 50\n",
    "age"
   ]
  },
  {
   "cell_type": "code",
   "execution_count": null,
   "metadata": {},
   "outputs": [],
   "source": [
    "var1 = 100\n",
    "if var1:\n",
    "    print(\"var1\")\n",
    "else:\n",
    "    print(\"no\")"
   ]
  },
  {
   "cell_type": "code",
   "execution_count": null,
   "metadata": {},
   "outputs": [],
   "source": [
    "name = input(). upper()\n",
    "if name == \"ANAS\":\n",
    "    print(\"my name is \" + name)\n",
    "else:\n",
    "    print(\"no\")"
   ]
  },
  {
   "cell_type": "code",
   "execution_count": null,
   "metadata": {},
   "outputs": [],
   "source": [
    "weight = float(input(\"How many pounds does your suitcase weigh ? \"))\n",
    "if weight > 50:\n",
    "    print(\"There is a $25 charge for luggage that heavy.\")\n",
    "    \n",
    "print(\"Thank you for your business\")"
   ]
  },
  {
   "cell_type": "code",
   "execution_count": null,
   "metadata": {},
   "outputs": [],
   "source": [
    "weight = float(input(\"How many pounds does your suitcase weigh ? \"))\n",
    "if weight > 50:\n",
    "    print(\"There is a $25 charge for luggage that heavy.\")\n",
    "    \n",
    "print(\"Thank you for your business\")"
   ]
  },
  {
   "cell_type": "code",
   "execution_count": null,
   "metadata": {},
   "outputs": [],
   "source": [
    "temperature=float(input(\"What is the weather feels today\"))\n",
    "if temperature > 25:\n",
    "    print (\"Wear Shorts\")\n",
    "else:\n",
    "    print(\"Wear Jeans\")"
   ]
  },
  {
   "cell_type": "code",
   "execution_count": null,
   "metadata": {},
   "outputs": [],
   "source": [
    "x = float(input(\"Enter your marks out of 100 :\"))\n",
    "if x >= 100:\n",
    "    print(\"Wrong input\")\n",
    "elif x >= 90:\n",
    "    print(\"Grade A*\")\n",
    "elif x >= 80:\n",
    "    print(\"Grade A\")\n",
    "elif x >= 70:\n",
    "    print(\"Grade B*\")\n",
    "elif x >= 60:\n",
    "    print(\"Grade B\")\n",
    "elif x >= 50:\n",
    "    print(\"Grade C\")\n",
    "elif x >= 33:\n",
    "    print(\"Fail\")"
   ]
  },
  {
   "cell_type": "code",
   "execution_count": null,
   "metadata": {},
   "outputs": [],
   "source": [
    "English = float(input(\"Enter your english marks: \"))\n",
    "Maths = float(input(\"Enter your maths marks: \"))\n",
    "Accounts = float(input(\"Enter your accounts marks: \"))\n",
    "Programming = float(input(\"Enter your programming marks: \"))\n",
    "Urdu = float(input(\"Enter your urdu marks: \"))\n",
    "\n",
    "totalmarksobtained=English+Maths+Accounts+Programming+Urdu\n",
    "print(totalmarksobtained)\n",
    "total=500\n",
    "percentage=totalmarksobtained/total*100\n",
    "print(percentage)\n"
   ]
  },
  {
   "cell_type": "code",
   "execution_count": null,
   "metadata": {},
   "outputs": [],
   "source": [
    "English = float(input(\"Enter your english marks: \"))\n",
    "Maths = float(input(\"Enter your maths marks: \"))\n",
    "Accounts = float(input(\"Enter your accounts marks: \"))\n",
    "Programming = float(input(\"Enter your programming marks: \"))\n",
    "Urdu = float(input(\"Enter your urdu marks: \"))\n",
    "\n",
    "totalmarksobtained=English+Maths+Accounts+Programming+Urdu\n",
    "print(\"You have obtained : \"+ str(totalmarksobtained)+\" Marks\")\n",
    "total=500\n",
    "percentage=totalmarksobtained/total*100\n",
    "print(percentage)\n",
    "\n",
    "if percentage >= 100:\n",
    "    print(\"Wrong input\")\n",
    "elif percentage >= 90:\n",
    "    print(\"Grade A*\")\n",
    "elif percentage >= 80:\n",
    "    print(\"Grade A\")\n",
    "elif percentage >= 70:\n",
    "    print(\"Grade B*\")\n",
    "elif percentage >= 60:\n",
    "    print(\"Grade B\")\n",
    "elif percentage >= 50:\n",
    "    print(\"Grade C\")\n",
    "elif percentage >= 33:\n",
    "    print(\"Fail\")"
   ]
  },
  {
   "cell_type": "code",
   "execution_count": null,
   "metadata": {},
   "outputs": [],
   "source": [
    "English = float(input(\"Enter your english marks: \"))\n",
    "Maths = float(input(\"Enter your maths marks: \"))\n",
    "Accounts = float(input(\"Enter your accounts marks: \"))\n",
    "Programming = float(input(\"Enter your programming marks: \"))\n",
    "Urdu = float(input(\"Enter your urdu marks: \"))\n",
    "\n",
    "totalmarksobtained=English+Maths+Accounts+Programming+Urdu\n",
    "print(\"You have obtained : \"+ str(totalmarksobtained)+\" Marks\")\n",
    "total=500\n",
    "percentage=totalmarksobtained/total*100\n",
    "print(percentage)\n",
    "\n",
    "if percentage >= 100:\n",
    "    print(\"Wrong input\")\n",
    "elif percentage >= 90:\n",
    "    grade = \"A*\"\n",
    "elif percentage >= 80:\n",
    "    grade = \"A\"\n",
    "elif percentage >= 70:\n",
    "    grade = \"B*\"\n",
    "elif percentage >= 60:\n",
    "    grade = \"B\"\n",
    "elif percentage >= 50:\n",
    "    grade = \"C\"\n",
    "else:\n",
    "    print(\"Fail\")\n",
    "\n",
    "    \n",
    "print(\"\\ntotalmarksobtained\" + str(totalmarksobtained) +\".\\npercentage\" + str(percentage) +\".\\ngrade\"+ str(grade))"
   ]
  },
  {
   "cell_type": "code",
   "execution_count": 5,
   "metadata": {},
   "outputs": [
    {
     "name": "stdout",
     "output_type": "stream",
     "text": [
      "Enter your english marks: 99\n",
      "Enter your maths marks: 5\n",
      "Enter your accounts marks: 99\n",
      "Enter your programming marks: 99\n",
      "Enter your urdu marks: 99\n",
      "You have obtained : 401.0 Marks\n",
      "80.2\n",
      "Fail in Maths\n",
      "You can not be graded\n",
      "\n",
      "totalmarksobtained401.0.\n",
      "percentage80.2.\n",
      "gradeA\n"
     ]
    }
   ],
   "source": [
    "English = float(input(\"Enter your english marks: \"))\n",
    "Maths = float(input(\"Enter your maths marks: \"))\n",
    "Accounts = float(input(\"Enter your accounts marks: \"))\n",
    "Programming = float(input(\"Enter your programming marks: \"))\n",
    "Urdu = float(input(\"Enter your urdu marks: \"))\n",
    "\n",
    "totalmarksobtained=English+Maths+Accounts+Programming+Urdu\n",
    "print(\"You have obtained : \"+ str(totalmarksobtained)+\" Marks\")\n",
    "total=500\n",
    "percentage=totalmarksobtained/total*100\n",
    "print(percentage)\n",
    "if English < 33:\n",
    "    print(\"Fail in English\")\n",
    "if Maths < 33:\n",
    "    print(\"Fail in Maths\")\n",
    "if Accounts < 33:\n",
    "    print(\"Fail in Accounts\")\n",
    "if Programming < 33:\n",
    "    print(\"Fail in Programming\")\n",
    "if Urdu < 33:\n",
    "    print(\"Fail in Urdu\")\n",
    "else:\n",
    "    print (\"You can not be graded\")\n",
    "if percentage >= 100:\n",
    "    print(\"Wrong input\")\n",
    "    \n",
    "elif percentage >= 90:\n",
    "    grade = \"A*\"\n",
    "elif percentage >= 80:\n",
    "    grade = \"A\"\n",
    "elif percentage >= 70:\n",
    "    grade = \"B*\"\n",
    "elif percentage >= 60:\n",
    "    grade = \"B\"\n",
    "elif percentage >= 50:\n",
    "    grade = \"C\"\n",
    "else:\n",
    "    grade = \"F\"\n",
    "    print(\"You have failed overall\")\n",
    "    \n",
    "\n",
    "    \n",
    "print(\"\\ntotalmarksobtained\" + str(totalmarksobtained) +\".\\npercentage\" + str(percentage) +\".\\ngrade\"+ str(grade))"
   ]
  },
  {
   "cell_type": "code",
   "execution_count": null,
   "metadata": {},
   "outputs": [],
   "source": []
  }
 ],
 "metadata": {
  "kernelspec": {
   "display_name": "Python 3",
   "language": "python",
   "name": "python3"
  },
  "language_info": {
   "codemirror_mode": {
    "name": "ipython",
    "version": 3
   },
   "file_extension": ".py",
   "mimetype": "text/x-python",
   "name": "python",
   "nbconvert_exporter": "python",
   "pygments_lexer": "ipython3",
   "version": "3.7.1"
  }
 },
 "nbformat": 4,
 "nbformat_minor": 2
}
