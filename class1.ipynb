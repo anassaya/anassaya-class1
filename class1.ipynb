{
 "cells": [
  {
   "cell_type": "code",
   "execution_count": null,
   "metadata": {},
   "outputs": [],
   "source": [
    "print(\"Hello\")"
   ]
  },
  {
   "cell_type": "markdown",
   "metadata": {},
   "source": [
    "# Our first class"
   ]
  },
  {
   "cell_type": "markdown",
   "metadata": {},
   "source": [
    "first class\n"
   ]
  },
  {
   "cell_type": "markdown",
   "metadata": {},
   "source": [
    "This is our first class in Dhoraji Association"
   ]
  },
  {
   "cell_type": "code",
   "execution_count": null,
   "metadata": {},
   "outputs": [],
   "source": [
    "print (\"Hello\")"
   ]
  },
  {
   "cell_type": "code",
   "execution_count": null,
   "metadata": {},
   "outputs": [],
   "source": [
    "print(\"hello world \")"
   ]
  },
  {
   "cell_type": "code",
   "execution_count": null,
   "metadata": {},
   "outputs": [],
   "source": [
    "print (\"Hello Python!\")"
   ]
  },
  {
   "cell_type": "code",
   "execution_count": null,
   "metadata": {},
   "outputs": [],
   "source": [
    "print(\"anas\" , \"dsl\" , sep=\"***\")"
   ]
  },
  {
   "cell_type": "code",
   "execution_count": null,
   "metadata": {},
   "outputs": [],
   "source": [
    "print(\"anas\" , \"dsl\" )"
   ]
  },
  {
   "cell_type": "code",
   "execution_count": null,
   "metadata": {},
   "outputs": [],
   "source": [
    "print (123+4)"
   ]
  },
  {
   "cell_type": "code",
   "execution_count": null,
   "metadata": {},
   "outputs": [],
   "source": [
    "print (123, \"hello\")"
   ]
  },
  {
   "cell_type": "code",
   "execution_count": null,
   "metadata": {},
   "outputs": [],
   "source": [
    "print (\"This is AI class\\nDhoraji\")"
   ]
  },
  {
   "cell_type": "code",
   "execution_count": null,
   "metadata": {},
   "outputs": [],
   "source": [
    "print (\"Languages:\\nPython\\nRuby\\nJavaScript\")"
   ]
  },
  {
   "cell_type": "code",
   "execution_count": null,
   "metadata": {},
   "outputs": [],
   "source": [
    "print (\"Languages:\\n\\tpython\\n\\tc\\n\\tJavaScript\")"
   ]
  },
  {
   "cell_type": "code",
   "execution_count": null,
   "metadata": {},
   "outputs": [],
   "source": [
    "print (\"Anas\")"
   ]
  },
  {
   "cell_type": "code",
   "execution_count": null,
   "metadata": {},
   "outputs": [],
   "source": [
    "num = 10+2+5+6+4+8+6+8\n",
    "print (num)"
   ]
  },
  {
   "cell_type": "code",
   "execution_count": null,
   "metadata": {},
   "outputs": [],
   "source": [
    "num = 10\n",
    "print (num)\n",
    "type (num)"
   ]
  },
  {
   "cell_type": "code",
   "execution_count": null,
   "metadata": {},
   "outputs": [],
   "source": [
    "num = \"Pakistan Zindabad\"\n",
    "print (num)\n",
    "type (num)"
   ]
  },
  {
   "cell_type": "code",
   "execution_count": null,
   "metadata": {},
   "outputs": [],
   "source": [
    "num = \"Pakistan Zindabad\"\n",
    "print (num)\n",
    "type (num)\n",
    "id (num)"
   ]
  },
  {
   "cell_type": "code",
   "execution_count": null,
   "metadata": {},
   "outputs": [],
   "source": [
    "num = \"Pakistan Zindabad\"\n",
    "print (num)\n",
    "print(type (num))\n",
    "id (num)"
   ]
  },
  {
   "cell_type": "code",
   "execution_count": null,
   "metadata": {},
   "outputs": [],
   "source": [
    "message = \"Dhoraji Association Karachi\"\n",
    "print(message)"
   ]
  },
  {
   "cell_type": "code",
   "execution_count": null,
   "metadata": {},
   "outputs": [],
   "source": [
    "a = 10 +1\n",
    "a"
   ]
  },
  {
   "cell_type": "code",
   "execution_count": null,
   "metadata": {},
   "outputs": [],
   "source": [
    "a = 10\n",
    "a\n",
    "print (a)"
   ]
  },
  {
   "cell_type": "code",
   "execution_count": null,
   "metadata": {},
   "outputs": [],
   "source": [
    "num_1 = 150\n",
    "print (num_1 + 20)"
   ]
  },
  {
   "cell_type": "code",
   "execution_count": null,
   "metadata": {},
   "outputs": [],
   "source": [
    "num_1 = 20\n",
    "num_2 = 30\n",
    "num_3 = 40\n",
    "print (num_1+num_2+num_3 )"
   ]
  },
  {
   "cell_type": "code",
   "execution_count": null,
   "metadata": {},
   "outputs": [],
   "source": [
    "original_number=15\n",
    "new_number=20\n",
    "total=original_number+new_number\n",
    "print (total)"
   ]
  },
  {
   "cell_type": "code",
   "execution_count": null,
   "metadata": {},
   "outputs": [],
   "source": [
    "num_1 =20\n",
    "num_2 =50\n",
    "new_num =num_1+num_2\n",
    "print(new_num)"
   ]
  },
  {
   "cell_type": "code",
   "execution_count": null,
   "metadata": {},
   "outputs": [],
   "source": [
    "num1=5\n",
    "num2=5\n",
    "num3=5\n",
    "num4=5\n",
    "num5=5\n",
    "num6=5"
   ]
  },
  {
   "cell_type": "code",
   "execution_count": null,
   "metadata": {},
   "outputs": [],
   "source": [
    "num =10\n",
    "another_num=1.5\n",
    "total=num+another_num\n",
    "print(int(total)) #type casting"
   ]
  },
  {
   "cell_type": "code",
   "execution_count": null,
   "metadata": {},
   "outputs": [],
   "source": [
    "name = \"Shahzad Ahsan\"\n",
    "name = \"Muhammad Ali\"\n",
    "print (name)"
   ]
  },
  {
   "cell_type": "code",
   "execution_count": null,
   "metadata": {},
   "outputs": [],
   "source": [
    "message = \"Good Evening\"\n",
    "print (message)\n",
    "message = \"How are you all\"\n",
    "print (message)\n"
   ]
  },
  {
   "cell_type": "code",
   "execution_count": null,
   "metadata": {},
   "outputs": [],
   "source": [
    "First_name = \"muhammad\"\n",
    "print(First_name.title())"
   ]
  },
  {
   "cell_type": "code",
   "execution_count": null,
   "metadata": {},
   "outputs": [],
   "source": [
    "Middle_name = \"HaMZa\"\n",
    "print(Middle_name.lower())"
   ]
  },
  {
   "cell_type": "code",
   "execution_count": null,
   "metadata": {},
   "outputs": [],
   "source": [
    "last_name = \"khan\"\n",
    "print(last_name.upper())"
   ]
  },
  {
   "cell_type": "code",
   "execution_count": null,
   "metadata": {},
   "outputs": [],
   "source": [
    "FirstName=\"Muhammad\"\n",
    "MiddleName=\"Anas\"\n",
    "LastName=\"SaYa\"\n",
    "full_name =FirstName + \" \"+ MiddleName + \" \" + LastName\n",
    "print (full_name)\n",
    "print (full_name.title())\n",
    "print (full_name.lower())\n",
    "print (full_name.upper())"
   ]
  },
  {
   "cell_type": "code",
   "execution_count": null,
   "metadata": {},
   "outputs": [],
   "source": [
    "#how to take input from user\n",
    "num1 = int(input(\"Enter first number: \"))\n",
    "num2 = int(input (\"Enter second number: \"))\n",
    "\n",
    "\n",
    "total = num1 + num2\n",
    "print(total)"
   ]
  },
  {
   "cell_type": "code",
   "execution_count": null,
   "metadata": {},
   "outputs": [],
   "source": [
    "#how to take input from user\n",
    "num1 = int(input(\"Enter first number: \"))\n",
    "num2 = int(input(\"Enter second number: \"))\n",
    "\n",
    "\n",
    "print(\"the total of two inputs \"+ (str(num1+num2)))"
   ]
  },
  {
   "cell_type": "code",
   "execution_count": null,
   "metadata": {},
   "outputs": [],
   "source": [
    "#how to take input from user\n",
    "num1 = int(input(\"Enter first number: \"))\n",
    "num2 = int(input(\"Enter second number: \"))\n",
    "\n",
    "\n",
    "thetotaloftwooutputs = num1 +num2\n",
    "print(thetotaloftwooutputs)"
   ]
  },
  {
   "cell_type": "code",
   "execution_count": null,
   "metadata": {},
   "outputs": [],
   "source": [
    "#how to take input from user\n",
    "num1 = input(\"Enter first number: \")\n",
    "num2 = input (\"Enter second number: \")\n",
    "\n",
    "\n",
    "total = num1 + num2\n",
    "print(total)"
   ]
  },
  {
   "cell_type": "code",
   "execution_count": null,
   "metadata": {},
   "outputs": [],
   "source": [
    "F_name = \"Anas\"\n",
    "L_name = \"Saya\"\n",
    "Full_Name = F_name+ \" \"+L_name\n",
    "print(\"Hello, How are you \"+ Full_Name +\" ? \")"
   ]
  },
  {
   "cell_type": "code",
   "execution_count": null,
   "metadata": {},
   "outputs": [],
   "source": [
    "whats_left_over= 10 % 3\n",
    "print (whats_left_over)"
   ]
  },
  {
   "cell_type": "code",
   "execution_count": null,
   "metadata": {},
   "outputs": [],
   "source": [
    "whats_left_over= 3 % 9\n",
    "print (whats_left_over)"
   ]
  },
  {
   "cell_type": "code",
   "execution_count": null,
   "metadata": {},
   "outputs": [],
   "source": [
    "age = 2\n",
    "age = age +1\n",
    "print (age)"
   ]
  },
  {
   "cell_type": "code",
   "execution_count": null,
   "metadata": {},
   "outputs": [],
   "source": [
    "age =12\n",
    "age +=50\n",
    "print(age)"
   ]
  },
  {
   "cell_type": "code",
   "execution_count": null,
   "metadata": {},
   "outputs": [],
   "source": [
    "print (\"Hello World\")\n",
    "print (\"Hello Python\")"
   ]
  },
  {
   "cell_type": "code",
   "execution_count": null,
   "metadata": {},
   "outputs": [],
   "source": [
    "print (\"Hello World\", end='\\n')\n",
    "print (\"Hello Python\")"
   ]
  },
  {
   "cell_type": "code",
   "execution_count": null,
   "metadata": {},
   "outputs": [],
   "source": [
    "print (\"Hello World\", end='\\t')\n",
    "print (\"Hello Python\")"
   ]
  },
  {
   "cell_type": "code",
   "execution_count": null,
   "metadata": {},
   "outputs": [],
   "source": [
    "print (\"Hello World\", end=' ')\n",
    "print (\"Hello Python\")"
   ]
  },
  {
   "cell_type": "code",
   "execution_count": null,
   "metadata": {},
   "outputs": [],
   "source": [
    "print (\"Hello World\",\"Hello Class\", sep=\"<separator>\", end='\\t')\n",
    "print (\"Hello Python\")"
   ]
  },
  {
   "cell_type": "code",
   "execution_count": null,
   "metadata": {},
   "outputs": [],
   "source": [
    "a=10 #assign a value 10 to a variable a\n",
    "b=20/2\n",
    "a==b #compare the value in a with the value in b\n",
    "tomatoPrice=100\n",
    "if tomatoPrice==100:\n",
    "    print(\"Buy 1 kg\")\n",
    "    #indentation\n",
    "else:\n",
    "    print(\"Buy 1/2 kg\")"
   ]
  },
  {
   "cell_type": "code",
   "execution_count": null,
   "metadata": {},
   "outputs": [],
   "source": [
    "a=10 #assign a value 10 to a variable a\n",
    "b=20/2\n",
    "a==b #compare the value in a with the value in b\n",
    "tomatoPrice=110\n",
    "if tomatoPrice==100:\n",
    "    print(\"Buy 1 kg\")\n",
    "    #indentation\n",
    "else:\n",
    "    print(\"Buy 1/2 kg\")"
   ]
  },
  {
   "cell_type": "code",
   "execution_count": null,
   "metadata": {},
   "outputs": [],
   "source": []
  },
  {
   "cell_type": "code",
   "execution_count": null,
   "metadata": {},
   "outputs": [],
   "source": [
    "tomatoprice=int(input(\"what is the price of 1 kg tomato: \" ))\n",
    "if tomatoprice==100:\n",
    "    print(\"Buy 1 kg\")\n",
    "else:\n",
    "    print(\"Buy 1/2 kg\")"
   ]
  },
  {
   "cell_type": "code",
   "execution_count": null,
   "metadata": {},
   "outputs": [],
   "source": [
    "if \"abc\"==100:\n",
    "    print(\"valid\")\n",
    "else:\n",
    "    print(\"invalid comaprison\")"
   ]
  },
  {
   "cell_type": "code",
   "execution_count": null,
   "metadata": {},
   "outputs": [],
   "source": [
    "num = int(input(\"Number\"))\n",
    "if num % 2 == 0:\n",
    "          print(\"Even Number\")\n",
    "else:\n",
    "          print(\"Odd Number\")\n",
    "    "
   ]
  },
  {
   "cell_type": "code",
   "execution_count": null,
   "metadata": {},
   "outputs": [],
   "source": [
    "num = int(input(\"Number\"))  # == (compare)\n",
    "if num % 2 == 0:\n",
    "          print(\"Even Number\")\n",
    "else:\n",
    "          print(\"Odd Number\")\n",
    "    "
   ]
  },
  {
   "cell_type": "code",
   "execution_count": null,
   "metadata": {},
   "outputs": [],
   "source": [
    "num =int(input())\n",
    "quotient = num/2\n",
    "if type(quotient)==\"int\":\n",
    "    print(\"even\")\n",
    "else:\n",
    "    print(\"odd\")"
   ]
  },
  {
   "cell_type": "code",
   "execution_count": null,
   "metadata": {},
   "outputs": [],
   "source": [
    "2+3\n",
    "\n",
    "#integer +integer =integer\n"
   ]
  },
  {
   "cell_type": "code",
   "execution_count": null,
   "metadata": {},
   "outputs": [],
   "source": [
    "2+3.5\n",
    "\n",
    "#integer +float = float"
   ]
  },
  {
   "cell_type": "code",
   "execution_count": null,
   "metadata": {},
   "outputs": [],
   "source": [
    "a=2+3.5\n",
    "type(a)\n",
    "#integer +float = float"
   ]
  },
  {
   "cell_type": "code",
   "execution_count": null,
   "metadata": {},
   "outputs": [],
   "source": [
    ".5+.5\n",
    "#float + float = float"
   ]
  },
  {
   "cell_type": "code",
   "execution_count": null,
   "metadata": {},
   "outputs": [],
   "source": [
    "1/1\n",
    "#integer divide integer = float"
   ]
  },
  {
   "cell_type": "code",
   "execution_count": null,
   "metadata": {},
   "outputs": [],
   "source": [
    "1//1\n",
    "# double divide means answer we need is in integer"
   ]
  },
  {
   "cell_type": "code",
   "execution_count": null,
   "metadata": {},
   "outputs": [],
   "source": [
    "5/2\n"
   ]
  },
  {
   "cell_type": "code",
   "execution_count": null,
   "metadata": {},
   "outputs": [],
   "source": [
    "5//2"
   ]
  },
  {
   "cell_type": "code",
   "execution_count": null,
   "metadata": {},
   "outputs": [],
   "source": [
    "a=1\n",
    "a+= 10\n",
    "a"
   ]
  },
  {
   "cell_type": "code",
   "execution_count": null,
   "metadata": {},
   "outputs": [],
   "source": [
    "a= 10\n",
    "a= a+2\n",
    "a"
   ]
  },
  {
   "cell_type": "code",
   "execution_count": null,
   "metadata": {},
   "outputs": [],
   "source": [
    "age = 12\n",
    "age += 50\n",
    "age"
   ]
  },
  {
   "cell_type": "code",
   "execution_count": null,
   "metadata": {},
   "outputs": [],
   "source": [
    "age = 12\n",
    "age -= 50\n",
    "age"
   ]
  },
  {
   "cell_type": "code",
   "execution_count": null,
   "metadata": {},
   "outputs": [],
   "source": [
    "age = 12\n",
    "age *= 50\n",
    "age"
   ]
  },
  {
   "cell_type": "code",
   "execution_count": null,
   "metadata": {},
   "outputs": [],
   "source": [
    "age = 12\n",
    "age /= 50\n",
    "age"
   ]
  },
  {
   "cell_type": "code",
   "execution_count": null,
   "metadata": {},
   "outputs": [],
   "source": [
    "var1 = 100\n",
    "if var1:\n",
    "    print(\"var1\")\n",
    "else:\n",
    "    print(\"no\")"
   ]
  },
  {
   "cell_type": "code",
   "execution_count": null,
   "metadata": {},
   "outputs": [],
   "source": [
    "name = input(). upper()\n",
    "if name == \"ANAS\":\n",
    "    print(\"my name is \" + name)\n",
    "else:\n",
    "    print(\"no\")"
   ]
  },
  {
   "cell_type": "code",
   "execution_count": null,
   "metadata": {},
   "outputs": [],
   "source": [
    "weight = float(input(\"How many pounds does your suitcase weigh ? \"))\n",
    "if weight > 50:\n",
    "    print(\"There is a $25 charge for luggage that heavy.\")\n",
    "    \n",
    "print(\"Thank you for your business\")"
   ]
  },
  {
   "cell_type": "code",
   "execution_count": null,
   "metadata": {},
   "outputs": [],
   "source": [
    "weight = float(input(\"How many pounds does your suitcase weigh ? \"))\n",
    "if weight > 50:\n",
    "    print(\"There is a $25 charge for luggage that heavy.\")\n",
    "    \n",
    "print(\"Thank you for your business\")"
   ]
  },
  {
   "cell_type": "code",
   "execution_count": null,
   "metadata": {},
   "outputs": [],
   "source": [
    "temperature=float(input(\"What is the weather feels today\"))\n",
    "if temperature > 25:\n",
    "    print (\"Wear Shorts\")\n",
    "else:\n",
    "    print(\"Wear Jeans\")"
   ]
  },
  {
   "cell_type": "code",
   "execution_count": null,
   "metadata": {},
   "outputs": [],
   "source": [
    "x = float(input(\"Enter your marks out of 100 :\"))\n",
    "if x >= 100:\n",
    "    print(\"Wrong input\")\n",
    "elif x >= 90:\n",
    "    print(\"Grade A*\")\n",
    "elif x >= 80:\n",
    "    print(\"Grade A\")\n",
    "elif x >= 70:\n",
    "    print(\"Grade B*\")\n",
    "elif x >= 60:\n",
    "    print(\"Grade B\")\n",
    "elif x >= 50:\n",
    "    print(\"Grade C\")\n",
    "elif x >= 33:\n",
    "    print(\"Fail\")"
   ]
  },
  {
   "cell_type": "code",
   "execution_count": null,
   "metadata": {},
   "outputs": [],
   "source": [
    "English = float(input(\"Enter your english marks: \"))\n",
    "Maths = float(input(\"Enter your maths marks: \"))\n",
    "Accounts = float(input(\"Enter your accounts marks: \"))\n",
    "Programming = float(input(\"Enter your programming marks: \"))\n",
    "Urdu = float(input(\"Enter your urdu marks: \"))\n",
    "\n",
    "totalmarksobtained=English+Maths+Accounts+Programming+Urdu\n",
    "print(totalmarksobtained)\n",
    "total=500\n",
    "percentage=totalmarksobtained/total*100\n",
    "print(percentage)\n"
   ]
  },
  {
   "cell_type": "code",
   "execution_count": null,
   "metadata": {},
   "outputs": [],
   "source": [
    "English = float(input(\"Enter your english marks: \"))\n",
    "Maths = float(input(\"Enter your maths marks: \"))\n",
    "Accounts = float(input(\"Enter your accounts marks: \"))\n",
    "Programming = float(input(\"Enter your programming marks: \"))\n",
    "Urdu = float(input(\"Enter your urdu marks: \"))\n",
    "\n",
    "totalmarksobtained=English+Maths+Accounts+Programming+Urdu\n",
    "print(\"You have obtained : \"+ str(totalmarksobtained)+\" Marks\")\n",
    "total=500\n",
    "percentage=totalmarksobtained/total*100\n",
    "print(percentage)\n",
    "\n",
    "if percentage >= 100:\n",
    "    print(\"Wrong input\")\n",
    "elif percentage >= 90:\n",
    "    print(\"Grade A*\")\n",
    "elif percentage >= 80:\n",
    "    print(\"Grade A\")\n",
    "elif percentage >= 70:\n",
    "    print(\"Grade B*\")\n",
    "elif percentage >= 60:\n",
    "    print(\"Grade B\")\n",
    "elif percentage >= 50:\n",
    "    print(\"Grade C\")\n",
    "elif percentage >= 33:\n",
    "    print(\"Fail\")"
   ]
  },
  {
   "cell_type": "code",
   "execution_count": null,
   "metadata": {},
   "outputs": [],
   "source": [
    "English = float(input(\"Enter your english marks: \"))\n",
    "Maths = float(input(\"Enter your maths marks: \"))\n",
    "Accounts = float(input(\"Enter your accounts marks: \"))\n",
    "Programming = float(input(\"Enter your programming marks: \"))\n",
    "Urdu = float(input(\"Enter your urdu marks: \"))\n",
    "\n",
    "totalmarksobtained=English+Maths+Accounts+Programming+Urdu\n",
    "print(\"You have obtained : \"+ str(totalmarksobtained)+\" Marks\")\n",
    "total=500\n",
    "percentage=totalmarksobtained/total*100\n",
    "print(percentage)\n",
    "\n",
    "if percentage >= 100:\n",
    "    print(\"Wrong input\")\n",
    "elif percentage >= 90:\n",
    "    grade = \"A*\"\n",
    "elif percentage >= 80:\n",
    "    grade = \"A\"\n",
    "elif percentage >= 70:\n",
    "    grade = \"B*\"\n",
    "elif percentage >= 60:\n",
    "    grade = \"B\"\n",
    "elif percentage >= 50:\n",
    "    grade = \"C\"\n",
    "else:\n",
    "    print(\"Fail\")\n",
    "\n",
    "    \n",
    "print(\"\\ntotalmarksobtained\" + str(totalmarksobtained) +\".\\npercentage\" + str(percentage) +\".\\ngrade\"+ str(grade))"
   ]
  },
  {
   "cell_type": "code",
   "execution_count": null,
   "metadata": {},
   "outputs": [],
   "source": [
    "English = float(input(\"Enter your english marks: \"))\n",
    "Maths = float(input(\"Enter your maths marks: \"))\n",
    "Accounts = float(input(\"Enter your accounts marks: \"))\n",
    "Programming = float(input(\"Enter your programming marks: \"))\n",
    "Urdu = float(input(\"Enter your urdu marks: \"))\n",
    "\n",
    "totalmarksobtained=English+Maths+Accounts+Programming+Urdu\n",
    "print(\"You have obtained : \"+ str(totalmarksobtained)+\" Marks\")\n",
    "total=500\n",
    "percentage=totalmarksobtained/total*100\n",
    "print(percentage)\n",
    "if English < 33:\n",
    "    print(\"Fail in English\")\n",
    "if Maths < 33:\n",
    "    print(\"Fail in Maths\")\n",
    "if Accounts < 33:\n",
    "    print(\"Fail in Accounts\")\n",
    "if Programming < 33:\n",
    "    print(\"Fail in Programming\")\n",
    "if Urdu < 33:\n",
    "    print(\"Fail in Urdu\")\n",
    "else:\n",
    "    print (\"You can not be graded\")\n",
    "if percentage >= 100:\n",
    "    print(\"Wrong input\")\n",
    "    \n",
    "elif percentage >= 90:\n",
    "    grade = \"A*\"\n",
    "elif percentage >= 80:\n",
    "    grade = \"A\"\n",
    "elif percentage >= 70:\n",
    "    grade = \"B*\"\n",
    "elif percentage >= 60:\n",
    "    grade = \"B\"\n",
    "elif percentage >= 50:\n",
    "    grade = \"C\"\n",
    "else:\n",
    "    grade = \"F\"\n",
    "    print(\"You have failed overall\")\n",
    "    \n",
    "\n",
    "    \n",
    "print(\"\\ntotalmarksobtained\" + str(totalmarksobtained) +\".\\npercentage\" + str(percentage) +\".\\ngrade\"+ str(grade))"
   ]
  },
  {
   "cell_type": "code",
   "execution_count": null,
   "metadata": {},
   "outputs": [],
   "source": [
    "\n",
    "ijazat = input(\"Ask from your wife.\\nIs she allow you to go stadium? [Y/N] \").upper()\n",
    "tickets = input(\"Do you have tickets: [Y/N] \").upper()\n",
    "age = int(input(\"Enter your age: \"))\n",
    "\n",
    "if age >= 18 and ijazat == \"Y\" and tickets == \"Y\":\n",
    "    print(\"\\nYou are allow for the match\")\n",
    "    \n",
    "else:\n",
    "    print(\"\\nGet loss from here...\\nGo to home and watch TV..\")"
   ]
  },
  {
   "cell_type": "code",
   "execution_count": null,
   "metadata": {},
   "outputs": [],
   "source": [
    "a = 19\n",
    "b = 29\n",
    "c = 30\n",
    "d = 67\n",
    "if a == 10 or b == 56 or c == 30 or d == 45:\n",
    "    print(\"happy\")\n",
    "    \n",
    "else:\n",
    "    print(\"get loss\")"
   ]
  },
  {
   "cell_type": "code",
   "execution_count": null,
   "metadata": {},
   "outputs": [],
   "source": [
    "a = 19\n",
    "b = 29\n",
    "c = 30\n",
    "d = 67\n",
    "if a == 10 and b == 56 and c == 30 and d == 45:\n",
    "    print(\"happy\")\n",
    "    \n",
    "else:\n",
    "    print(\"get loss\")"
   ]
  },
  {
   "cell_type": "code",
   "execution_count": null,
   "metadata": {},
   "outputs": [],
   "source": [
    "ticket = input(\"Do you have ticket: (y/n) \")\n",
    "day = input(\"what is the day today? \")\n",
    "permission = input(\"Have you got permission from parents: (y/n)\")\n",
    "\n",
    "if ticket ==\"y\" and day == \"sunday\" and permission == \"y\":\n",
    "    print(\"you can enter the stadium to watch match\")\n",
    "else:\n",
    "    print(\"you cannot enter the stadium to watch match\")"
   ]
  },
  {
   "cell_type": "code",
   "execution_count": null,
   "metadata": {},
   "outputs": [],
   "source": [
    "print(\"\\t**CASTING VOTE**\")\n",
    "age55 = int(input(\"Enter your age\"))\n",
    "remainingage = 18-age55\n",
    "if age55 >= 18:\n",
    "    CNIC = input(\"Enter you CNIC\")\n",
    "    City = input(\"Enter your City\")\n",
    "    if CNIC== \"y\" or City != \"lahore\":\n",
    "        print(\"\\nGo and cast your vote. \\nHope for your positive response\")\n",
    "    else:\n",
    "        print(\"Sorry you are not allowed to cast your vote\")\n",
    "        \n",
    "else:\n",
    "    print(\"Under Age\")\n",
    "    print(\"You will be allowed after\" + str(remainingage) + \"years.\")"
   ]
  },
  {
   "cell_type": "code",
   "execution_count": null,
   "metadata": {},
   "outputs": [],
   "source": [
    "bicycles = ['trek','cannodale','redline','specialized']\n",
    "print(bicycles[-1])\n",
    "print(bicycles[-3])"
   ]
  },
  {
   "cell_type": "code",
   "execution_count": null,
   "metadata": {},
   "outputs": [],
   "source": [
    "motorcycles = ['honda','yamaha','suzuki']\n",
    "print(motorcycles)"
   ]
  },
  {
   "cell_type": "code",
   "execution_count": null,
   "metadata": {},
   "outputs": [],
   "source": [
    "motorcycles = ['honda','yamaha','suzuki']\n",
    "print(motorcycles)\n",
    "motorcycles [2] = 'kawasaki'\n",
    "print(motorcycles)"
   ]
  },
  {
   "cell_type": "code",
   "execution_count": null,
   "metadata": {},
   "outputs": [],
   "source": [
    "motorcycles[2] = 'harley davidson'\n",
    "print(motorcycles)"
   ]
  },
  {
   "cell_type": "code",
   "execution_count": null,
   "metadata": {},
   "outputs": [],
   "source": [
    "motorcycles = ['honda','yamaha','suzuki']\n",
    "print(motorcycles)\n",
    "motorcycles.append('kawasaki')\n",
    "print(motorcycles) "
   ]
  },
  {
   "cell_type": "code",
   "execution_count": null,
   "metadata": {},
   "outputs": [],
   "source": [
    "motorcycles = []\n",
    "motorcycles.append('honda')\n",
    "motorcycles.append('yamaha')\n",
    "motorcycles.append('suzuki')\n",
    "print(motorcycles)"
   ]
  },
  {
   "cell_type": "code",
   "execution_count": null,
   "metadata": {},
   "outputs": [],
   "source": [
    "motorcycles = []\n",
    "motorcycles.append('honda')\n",
    "motorcycles.append('yamaha')\n",
    "motorcycles.append('suzuki')\n",
    "print(motorcycles)\n"
   ]
  },
  {
   "cell_type": "code",
   "execution_count": null,
   "metadata": {},
   "outputs": [],
   "source": [
    "\n",
    "friends = ['hamza', 'ali' , 'nouman' , 'arsalan' , 'azhar' , 'jahanzaib']\n",
    "friends.insert(0 , 'aman')\n",
    "print(friends)"
   ]
  },
  {
   "cell_type": "code",
   "execution_count": null,
   "metadata": {},
   "outputs": [],
   "source": [
    "friends.insert(3 , 'taha')\n",
    "friends.insert(-199 , 'hassan')\n",
    "print(friends)"
   ]
  },
  {
   "cell_type": "code",
   "execution_count": null,
   "metadata": {},
   "outputs": [],
   "source": [
    "friends.insert(3 , 'taha')\n",
    "friends.insert(199 , 'hasssan')\n",
    "print(friends)"
   ]
  },
  {
   "cell_type": "code",
   "execution_count": null,
   "metadata": {},
   "outputs": [],
   "source": [
    "name = ['laiba','umer','ahmed','ali','faizan']\n",
    "print(name.index(\"faizan\"))\n",
    "name.remove('faizan')\n",
    "name\n"
   ]
  },
  {
   "cell_type": "code",
   "execution_count": null,
   "metadata": {},
   "outputs": [],
   "source": [
    "name = ['laiba','umer','ahmed','ali','faizan']\n",
    "print(name.index(\"faizan\"))\n",
    "del name[4]\n",
    "print(name)\n",
    "\n"
   ]
  },
  {
   "cell_type": "code",
   "execution_count": null,
   "metadata": {},
   "outputs": [],
   "source": [
    "motorcycles = ['honda','yamaha','suzuki']\n",
    "print(motorcycles)"
   ]
  },
  {
   "cell_type": "code",
   "execution_count": null,
   "metadata": {},
   "outputs": [],
   "source": [
    "popped_motorcycle = motorcycles.pop()\n",
    "print(motorcycles)\n",
    "print(popped_motorcycle)"
   ]
  },
  {
   "cell_type": "code",
   "execution_count": null,
   "metadata": {},
   "outputs": [],
   "source": [
    "print(\"\\t**TO_DO LIST**\")\n",
    "List = [\"Task1\" , \"Task2\" , \"Task3\" , \"Task4\" , \"Task5\"]\n",
    "Task1 = input(\"Have you called insurance company: (y/n) \")\n",
    "Task2 = input(\"Did you managed today's attendance: (y/n) \")\n",
    "Task3= input(\"Did you deposit cheque in bank: (y/n) \")\n",
    "Task4 = input(\"Did you called the shortlisted people: (y/n) \")\n",
    "Task5 = input(\"Did you correspond with the supply chain department: (y/n) \")\n",
    "\n"
   ]
  },
  {
   "cell_type": "code",
   "execution_count": null,
   "metadata": {},
   "outputs": [],
   "source": [
    "todo_list = ['shop' ,'milk' , 'chicken' , 'school' , 'sleep']\n",
    "completetask = []\n"
   ]
  },
  {
   "cell_type": "code",
   "execution_count": null,
   "metadata": {},
   "outputs": [],
   "source": [
    "a = input(\"Enter your task [y/n] \").upper()\n",
    "if a == 'Y':\n",
    "    popped_items = todo_list.pop(1)\n",
    "    completetask.append(popped_items)\n",
    "    print(completetask)\n",
    "else:\n",
    "    print(todo_list)"
   ]
  },
  {
   "cell_type": "code",
   "execution_count": null,
   "metadata": {},
   "outputs": [],
   "source": [
    "todo_list = ['shop' ,'milk' , 'chicken' , 'school' , 'sleep']\n",
    "\n",
    "complete_task = []\n"
   ]
  },
  {
   "cell_type": "code",
   "execution_count": null,
   "metadata": {},
   "outputs": [],
   "source": [
    "task = input(\"Enter your task: \")\n",
    "\n",
    "if task in todo_list:\n",
    "    \n",
    "    index=todo_list.index(task)\n",
    "    \n",
    "    complete_task.append(todo_list.pop(index))\n",
    "    \n",
    "    print(todo_list)\n",
    "    print(complete_task)\n",
    "    \n",
    "else:\n",
    "    print(\"This task is not in the list\")"
   ]
  },
  {
   "cell_type": "code",
   "execution_count": null,
   "metadata": {},
   "outputs": [],
   "source": [
    "#slicing\n",
    "#always travel left to right\n",
    "#if it is right to left (reversed sliced -)\n",
    "#empty list shown when slicing is not done\n",
    "\n"
   ]
  },
  {
   "cell_type": "code",
   "execution_count": null,
   "metadata": {},
   "outputs": [],
   "source": [
    "list1=[1,2,3,4,5,6,7,8]\n",
    "#    =[0,1,2,3,4,5,6,7]"
   ]
  },
  {
   "cell_type": "code",
   "execution_count": null,
   "metadata": {},
   "outputs": [],
   "source": [
    "list2 = list1[2:5]\n",
    "list2"
   ]
  },
  {
   "cell_type": "code",
   "execution_count": null,
   "metadata": {},
   "outputs": [],
   "source": [
    "list3 =[-2,-3,-4,-5,-6,-7,-8]"
   ]
  },
  {
   "cell_type": "code",
   "execution_count": null,
   "metadata": {},
   "outputs": [],
   "source": [
    "list4 = list3[-2:-5]\n",
    "list4"
   ]
  },
  {
   "cell_type": "code",
   "execution_count": null,
   "metadata": {},
   "outputs": [],
   "source": [
    "friends = ['zohiab' , 'umer' , 'ali' , 'hamza' , 'jahanzaib' , 'ahmed' , 'ahsan']\n",
    "friends.sort()\n",
    "print(friends)"
   ]
  },
  {
   "cell_type": "code",
   "execution_count": null,
   "metadata": {},
   "outputs": [],
   "source": [
    "friends = ['zohiab' , 'umer' , 'ali' , 'hamza' , 'jahanzaib' , 'ahmed' , 'ahsan']\n",
    "friends.sort(reverse=True) #inplace sorting (change in original)\n",
    "print(friends)"
   ]
  },
  {
   "cell_type": "code",
   "execution_count": null,
   "metadata": {},
   "outputs": [],
   "source": [
    "len(friends)"
   ]
  },
  {
   "cell_type": "code",
   "execution_count": null,
   "metadata": {},
   "outputs": [],
   "source": [
    "cars = ['bmw', 'audi', 'toyota', 'subaru']\n",
    "print(cars)\n",
    "cars.reverse()\n",
    "print(cars)"
   ]
  },
  {
   "cell_type": "code",
   "execution_count": null,
   "metadata": {},
   "outputs": [],
   "source": [
    "\n",
    "len(cars)"
   ]
  },
  {
   "cell_type": "markdown",
   "metadata": {},
   "source": [
    "# Slicing a List"
   ]
  },
  {
   "cell_type": "code",
   "execution_count": 5,
   "metadata": {},
   "outputs": [
    {
     "name": "stdout",
     "output_type": "stream",
     "text": [
      "['afridi', 'misbah', 'malik']\n"
     ]
    }
   ],
   "source": [
    "players = ['afridi', 'misbah', 'malik', 'amir', 'ajmal']\n",
    "print(players[0:3])"
   ]
  },
  {
   "cell_type": "code",
   "execution_count": null,
   "metadata": {},
   "outputs": [],
   "source": [
    "players = ['charles', 'martina', 'michael', 'florence', 'eli']\n",
    "print(players[1:4])"
   ]
  },
  {
   "cell_type": "code",
   "execution_count": null,
   "metadata": {},
   "outputs": [],
   "source": [
    "players = ['charles', 'martina', 'dukky', 'chris', 'Rika']\n",
    "print(players[:4])"
   ]
  },
  {
   "cell_type": "code",
   "execution_count": null,
   "metadata": {},
   "outputs": [],
   "source": [
    "\n",
    "players = ['charles', 'martina', 'michael', 'florence', 'eli']\n",
    "print(players[2:])"
   ]
  },
  {
   "cell_type": "code",
   "execution_count": null,
   "metadata": {},
   "outputs": [],
   "source": [
    "players = ['charles', 'martina', 'michael', 'florence', 'eli']\n",
    "print(players[-3:])"
   ]
  },
  {
   "cell_type": "code",
   "execution_count": null,
   "metadata": {},
   "outputs": [],
   "source": [
    "players = ['charles', 'martina', 'michael', 'florence', 'eli']\n",
    "print(\"Here are the first three players on my team:\")\n",
    "for player in players[:3]:\n",
    "    print(player.title())"
   ]
  },
  {
   "cell_type": "code",
   "execution_count": null,
   "metadata": {},
   "outputs": [],
   "source": [
    "#If you could invite anyone, living or deceased, to dinner, who would you invite? Make a list that includes at least three people you’d like to invite to dinner. Then use your list to print a message to each person, inviting them to dinner."
   ]
  },
  {
   "cell_type": "code",
   "execution_count": null,
   "metadata": {},
   "outputs": [],
   "source": [
    "list=[\"Ahmed\",\"Sara\",\"Imran\",\"Faisal\"]\n",
    "print(\"I would like you do dinner with me \" + (list[1]+ \".\"))"
   ]
  },
  {
   "cell_type": "code",
   "execution_count": null,
   "metadata": {},
   "outputs": [],
   "source": [
    "friends=[\"Ahmed\",\"Sara\",\"Imran\",\"Faisal\"]\n",
    "\n",
    "friends.insert(0 , 'Taha')\n",
    "print(friends)\n",
    "friends.insert(2 , 'hasssan')\n",
    "print(friends)\n",
    "friends.append('Shahzad')\n",
    "print(friends)\n",
    "\n",
    "print(\"I would like you do dinner with me \" + (friends[2]+ \".\"))\n",
    "\n",
    "print(\"I would like you do dinner with me \" + (friends[3]+ \".\"))"
   ]
  },
  {
   "cell_type": "code",
   "execution_count": null,
   "metadata": {},
   "outputs": [],
   "source": [
    "eklist=[1,2,3,4,5,6,7,8,9]\n",
    "a=10\n",
    "b=a"
   ]
  },
  {
   "cell_type": "code",
   "execution_count": null,
   "metadata": {},
   "outputs": [],
   "source": [
    "b"
   ]
  },
  {
   "cell_type": "code",
   "execution_count": null,
   "metadata": {},
   "outputs": [],
   "source": [
    "eklist=[1,2,3,4,5,6,7,8,9]\n",
    "a=15\n",
    "\n",
    "b=a"
   ]
  },
  {
   "cell_type": "code",
   "execution_count": null,
   "metadata": {},
   "outputs": [],
   "source": [
    "b"
   ]
  },
  {
   "cell_type": "code",
   "execution_count": null,
   "metadata": {},
   "outputs": [],
   "source": [
    "eklist=[1,2,3,4,5,6,7,8,9]\n",
    "a=10\n",
    "\n",
    "b=a\n",
    "print(id(a))\n",
    "print(id(b))"
   ]
  },
  {
   "cell_type": "code",
   "execution_count": null,
   "metadata": {},
   "outputs": [],
   "source": [
    "eklist=[1,2,3,4,5,6,7,8,9]\n",
    "\n",
    "dosrilist = eklist\n",
    "\n",
    "dosrilist"
   ]
  },
  {
   "cell_type": "code",
   "execution_count": null,
   "metadata": {},
   "outputs": [],
   "source": [
    "eklist=[1,2,3,4,5,6,7,8,9,10,11,12,13]\n",
    "\n"
   ]
  },
  {
   "cell_type": "code",
   "execution_count": null,
   "metadata": {},
   "outputs": [],
   "source": [
    "dosrilist = eklist.copy()\n",
    "\n",
    "eklist.append(45)\n",
    "\n",
    "print(eklist)\n",
    "print(dosrilist)"
   ]
  },
  {
   "cell_type": "code",
   "execution_count": null,
   "metadata": {},
   "outputs": [],
   "source": [
    "dosrilist"
   ]
  },
  {
   "cell_type": "code",
   "execution_count": null,
   "metadata": {},
   "outputs": [],
   "source": [
    "list1 = [1,2,3,4,5]\n"
   ]
  },
  {
   "cell_type": "code",
   "execution_count": null,
   "metadata": {},
   "outputs": [],
   "source": [
    "list2 = list1\n",
    "print(list2)\n",
    "\n",
    "list2 =list1.copy()\n",
    "list2.append(6)\n",
    "\n",
    "print(list1)\n",
    "print(list2)"
   ]
  },
  {
   "cell_type": "code",
   "execution_count": null,
   "metadata": {},
   "outputs": [],
   "source": [
    "list2 = list1\n",
    "print(list2)\n",
    "\n",
    "list2 =list1[:]\n",
    "list2.append(6)\n",
    "\n",
    "print(list1)\n",
    "print(list2)"
   ]
  },
  {
   "cell_type": "code",
   "execution_count": null,
   "metadata": {},
   "outputs": [],
   "source": [
    "s=list2[:]"
   ]
  },
  {
   "cell_type": "code",
   "execution_count": null,
   "metadata": {},
   "outputs": [],
   "source": [
    "print(s[1:3],s[4:])"
   ]
  },
  {
   "cell_type": "code",
   "execution_count": null,
   "metadata": {},
   "outputs": [],
   "source": [
    "s.clear()"
   ]
  },
  {
   "cell_type": "code",
   "execution_count": null,
   "metadata": {},
   "outputs": [],
   "source": [
    "s"
   ]
  },
  {
   "cell_type": "code",
   "execution_count": null,
   "metadata": {},
   "outputs": [],
   "source": [
    "list3=[6,5,4,3,2,1]"
   ]
  },
  {
   "cell_type": "code",
   "execution_count": null,
   "metadata": {},
   "outputs": [],
   "source": [
    "list4 = list3\n",
    "print(list4)\n",
    "\n",
    "list4 =list3[:]\n",
    "list4.append(6)\n",
    "\n",
    "print(list3)\n",
    "print(list4)"
   ]
  },
  {
   "cell_type": "code",
   "execution_count": null,
   "metadata": {},
   "outputs": [],
   "source": [
    "q = [1,2,3,4,8,5,6,7,8,9]\n",
    "q.count(8)"
   ]
  },
  {
   "cell_type": "code",
   "execution_count": null,
   "metadata": {},
   "outputs": [],
   "source": [
    "print(q)"
   ]
  },
  {
   "cell_type": "code",
   "execution_count": null,
   "metadata": {},
   "outputs": [],
   "source": [
    "q=[1,2,3,4,5,6,7,8,9]"
   ]
  },
  {
   "cell_type": "code",
   "execution_count": null,
   "metadata": {},
   "outputs": [],
   "source": [
    "q.remove(9)"
   ]
  },
  {
   "cell_type": "code",
   "execution_count": null,
   "metadata": {},
   "outputs": [],
   "source": [
    "e=q[:]"
   ]
  },
  {
   "cell_type": "code",
   "execution_count": null,
   "metadata": {},
   "outputs": [],
   "source": [
    "print(e)"
   ]
  },
  {
   "cell_type": "code",
   "execution_count": null,
   "metadata": {},
   "outputs": [],
   "source": [
    "poppedV=q.pop(2)"
   ]
  },
  {
   "cell_type": "code",
   "execution_count": null,
   "metadata": {},
   "outputs": [],
   "source": [
    "poppedV\n"
   ]
  },
  {
   "cell_type": "code",
   "execution_count": null,
   "metadata": {},
   "outputs": [],
   "source": [
    "q.extend(\"11\")\n",
    "print(q)\n"
   ]
  },
  {
   "cell_type": "code",
   "execution_count": null,
   "metadata": {},
   "outputs": [],
   "source": [
    "a = [2,5,8,7,9,8,7,25,15]\n",
    "print(sum(a))\n",
    "print(max(a))\n",
    "print(min(a))"
   ]
  },
  {
   "cell_type": "code",
   "execution_count": null,
   "metadata": {},
   "outputs": [],
   "source": [
    "listinlist = [\"q\" ,5, [1,2,3,4,5,[4,5,6]]]"
   ]
  },
  {
   "cell_type": "code",
   "execution_count": null,
   "metadata": {},
   "outputs": [],
   "source": [
    "listinlist"
   ]
  },
  {
   "cell_type": "code",
   "execution_count": null,
   "metadata": {},
   "outputs": [],
   "source": [
    "listinlist[2]"
   ]
  },
  {
   "cell_type": "code",
   "execution_count": null,
   "metadata": {},
   "outputs": [],
   "source": [
    "listinlist[2][3]"
   ]
  },
  {
   "cell_type": "code",
   "execution_count": null,
   "metadata": {},
   "outputs": [],
   "source": [
    "listinlist[2][5][2]"
   ]
  },
  {
   "cell_type": "code",
   "execution_count": null,
   "metadata": {},
   "outputs": [],
   "source": [
    "listinlist.index([1, 2, 3, 4, 5, [4, 5, 6]])"
   ]
  },
  {
   "cell_type": "code",
   "execution_count": null,
   "metadata": {},
   "outputs": [],
   "source": [
    "listinlist[2].index(2)"
   ]
  },
  {
   "cell_type": "code",
   "execution_count": null,
   "metadata": {},
   "outputs": [],
   "source": [
    "listinlist[2].index(5)"
   ]
  },
  {
   "cell_type": "code",
   "execution_count": null,
   "metadata": {},
   "outputs": [],
   "source": [
    "listinlist[2].index([4, 5, 6])"
   ]
  },
  {
   "cell_type": "code",
   "execution_count": null,
   "metadata": {},
   "outputs": [],
   "source": [
    "listinlist[2][5].index(5)"
   ]
  },
  {
   "cell_type": "markdown",
   "metadata": {},
   "source": [
    "# HOW TO ACCESS MEMBERS OF LIST USING A FOR LOOP"
   ]
  },
  {
   "cell_type": "code",
   "execution_count": null,
   "metadata": {},
   "outputs": [],
   "source": [
    "for a in range (10):\n",
    "    print(\"pakistan\")"
   ]
  },
  {
   "cell_type": "code",
   "execution_count": null,
   "metadata": {},
   "outputs": [],
   "source": [
    "for num in range (1,6):\n",
    "    print(num,\"Ali\")"
   ]
  },
  {
   "cell_type": "code",
   "execution_count": null,
   "metadata": {},
   "outputs": [],
   "source": [
    "for num in range (4,8):\n",
    "    print(num,\"Ali\")"
   ]
  },
  {
   "cell_type": "code",
   "execution_count": null,
   "metadata": {},
   "outputs": [],
   "source": [
    "for num in range (0,10,2):\n",
    "    print(num,\"Ali\")"
   ]
  },
  {
   "cell_type": "code",
   "execution_count": null,
   "metadata": {},
   "outputs": [],
   "source": [
    "for num in range (1,10,2):\n",
    "    print(num,\"Ali\")"
   ]
  },
  {
   "cell_type": "code",
   "execution_count": null,
   "metadata": {},
   "outputs": [],
   "source": [
    "list1 = [11,22,33,44,\"55\",66,77,True,99]\n",
    "\n",
    "list1"
   ]
  },
  {
   "cell_type": "code",
   "execution_count": null,
   "metadata": {},
   "outputs": [],
   "source": [
    "list1[3:6]"
   ]
  },
  {
   "cell_type": "code",
   "execution_count": null,
   "metadata": {},
   "outputs": [],
   "source": [
    "list1[6]"
   ]
  },
  {
   "cell_type": "code",
   "execution_count": null,
   "metadata": {},
   "outputs": [],
   "source": [
    "for num in list1:\n",
    "    print(num,type(num))"
   ]
  },
  {
   "cell_type": "code",
   "execution_count": null,
   "metadata": {},
   "outputs": [],
   "source": [
    "for members in [\"apple\",'oranges','cakes','drinks']:\n",
    "    print(members)"
   ]
  },
  {
   "cell_type": "code",
   "execution_count": null,
   "metadata": {},
   "outputs": [],
   "source": [
    "numberlist = [11,22,33,44,55,66,77,88,99]"
   ]
  },
  {
   "cell_type": "code",
   "execution_count": null,
   "metadata": {},
   "outputs": [],
   "source": [
    "for member in numberlist:\n",
    "    if member%2 !=0:\n",
    "        print(str(member) + \" is odd\")\n",
    "    else:\n",
    "        print(str(member) + \" is even\")"
   ]
  },
  {
   "cell_type": "code",
   "execution_count": null,
   "metadata": {},
   "outputs": [],
   "source": [
    "oddnumberlist = []\n",
    "evennumberlist = []\n",
    "message = \"\"\n",
    "\n",
    "list1 = [1,2,3,4,5,6,7,8,9,10]\n",
    "\n",
    "for num in list1:\n",
    "    if num % 2 !=0:\n",
    "        oddnumberlist.append(num)\n",
    "    else:\n",
    "        evennumberlist.append(num)\n",
    "\n",
    "message += \"These are odd numbers : \"\n",
    "\n",
    "for odd in oddnumberlist:\n",
    "    message += str(odd) + \", \"\n",
    "    \n",
    "message += \"and \"\n",
    "\n",
    "for even in evennumberlist:\n",
    "    message += str(even) + \", \"\n",
    "    \n",
    "message += \"are even numbers.\"\n",
    "\n",
    "print(message)"
   ]
  },
  {
   "cell_type": "code",
   "execution_count": null,
   "metadata": {},
   "outputs": [],
   "source": [
    "even=[]\n",
    "odd=[]\n",
    "list2= [11,22,33,44,55,66,77,88,99]\n",
    "for member in list2:\n",
    "    if member%2==0:\n",
    "        even.append(member)\n",
    "    else:\n",
    "        odd.append(member)\n",
    "print('even')\n",
    "for ev in even:\n",
    "    print(ev,end=' ')\n",
    "print('\\nodd')\n",
    "for od in odd:\n",
    "    print(od,end=' ')\n",
    "    \n"
   ]
  },
  {
   "cell_type": "code",
   "execution_count": 1,
   "metadata": {},
   "outputs": [
    {
     "name": "stdout",
     "output_type": "stream",
     "text": [
      "['Sara']\n",
      "No close friend\n",
      "No close friend\n",
      "No close friend\n",
      "['Sara', 'Faizan']\n",
      "['Sara', 'Faizan', 'Ahsan']\n"
     ]
    }
   ],
   "source": [
    "friendlist=[\"Sara\",'Umer','Rafay','Mudassir','Faizan','Ahsan']\n",
    "relativelist=[\"Sara\",'Yasin','Owais','Rameen','Faizan','Ahsan']\n",
    "closefriend=[]\n",
    "\n",
    "for member in friendlist:\n",
    "    if member in relativelist:\n",
    "        closefriend.append(member)\n",
    "        print (closefriend)\n",
    "    else:\n",
    "        print(\"No close friend\")\n"
   ]
  },
  {
   "cell_type": "code",
   "execution_count": 4,
   "metadata": {},
   "outputs": [
    {
     "name": "stdout",
     "output_type": "stream",
     "text": [
      "TOOBA\n",
      "SANA\n",
      "KOMAL\n",
      "HIRA\n",
      "AHMED\n"
     ]
    }
   ],
   "source": [
    "names = ['Anas','Sara','Tooba','Sana','Komal','Hira','Ahmed']\n",
    "for name in names[2:]:\n",
    "    print(name.upper())"
   ]
  },
  {
   "cell_type": "code",
   "execution_count": 3,
   "metadata": {},
   "outputs": [
    {
     "name": "stdout",
     "output_type": "stream",
     "text": [
      "Enter a new username Sara\n",
      "Username has been added in the list Shahzad\n",
      "Enter a new username Ahmed\n",
      "Username has been added in the list Jahanzaib\n",
      "Enter a new username Usman\n"
     ]
    }
   ],
   "source": [
    "current_users=[\"Anas\",'Ahmed','Usman','Hassan','Sara']\n",
    "new_users=[\"Sara\",'Shahzad','Ahmed','Jahanzaib','Usman']\n",
    "for special_users in new_users:\n",
    "    if special_users in current_users:\n",
    "        print(\"Enter a new username\",special_users)\n",
    "    else:\n",
    "        print(\"Username has been added in the list\",special_users)"
   ]
  },
  {
   "cell_type": "code",
   "execution_count": 22,
   "metadata": {},
   "outputs": [
    {
     "name": "stdout",
     "output_type": "stream",
     "text": [
      "My favourite pizza is:\n",
      "Fajita\n",
      "Creamy Tikka\n",
      "Kebab Feast\n",
      "Mayo Special\n",
      "Afghani Feast\n",
      "\n",
      "My friends favourite pizza is:\n",
      "Fajita\n",
      "Creamy Tikka\n",
      "Kebab Feast\n",
      "Mayo Special\n",
      "Sara's Special\n"
     ]
    }
   ],
   "source": [
    "pizza=[\"Fajita\",'Creamy Tikka','Kebab Feast','Mayo Special']\n",
    "friends_pizza=pizza[:]\n",
    "pizza.append(\"Afghani Feast\")\n",
    "friends_pizza.append(\"Sara's Special\")\n",
    "print('My favourite pizza is:')\n",
    "for pizzaz in pizza:\n",
    "    print(pizzaz)\n",
    "print('\\nMy friends favourite pizza is:')\n",
    "for pizzaz1 in friends_pizza:\n",
    "    print(pizzaz1)"
   ]
  },
  {
   "cell_type": "code",
   "execution_count": 23,
   "metadata": {},
   "outputs": [
    {
     "data": {
      "text/plain": [
       "['a', 'b', 'c', 'd']"
      ]
     },
     "execution_count": 23,
     "metadata": {},
     "output_type": "execute_result"
    }
   ],
   "source": [
    "elist=[\"a\",'b','c','d']\n",
    "dlist=elist[:]\n",
    "dlist"
   ]
  },
  {
   "cell_type": "code",
   "execution_count": null,
   "metadata": {},
   "outputs": [],
   "source": []
  }
 ],
 "metadata": {
  "kernelspec": {
   "display_name": "Python 3",
   "language": "python",
   "name": "python3"
  },
  "language_info": {
   "codemirror_mode": {
    "name": "ipython",
    "version": 3
   },
   "file_extension": ".py",
   "mimetype": "text/x-python",
   "name": "python",
   "nbconvert_exporter": "python",
   "pygments_lexer": "ipython3",
   "version": "3.7.1"
  }
 },
 "nbformat": 4,
 "nbformat_minor": 2
}
