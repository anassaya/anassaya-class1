{
 "cells": [
  {
   "cell_type": "markdown",
   "metadata": {},
   "source": [
    "# Dictionaries"
   ]
  },
  {
   "cell_type": "code",
   "execution_count": 1,
   "metadata": {},
   "outputs": [],
   "source": [
    "a={'key':'value'}"
   ]
  },
  {
   "cell_type": "code",
   "execution_count": 2,
   "metadata": {},
   "outputs": [
    {
     "name": "stdout",
     "output_type": "stream",
     "text": [
      "green\n",
      "5\n"
     ]
    }
   ],
   "source": [
    "alien_0 = {'color':'green','points': 5}\n",
    "print(alien_0['color'])\n",
    "print(alien_0['points'])"
   ]
  },
  {
   "cell_type": "code",
   "execution_count": 6,
   "metadata": {},
   "outputs": [
    {
     "name": "stdout",
     "output_type": "stream",
     "text": [
      "You just earned 5 points!\n"
     ]
    }
   ],
   "source": [
    "alien_0={'color':'green','points':5}\n",
    "new_points=alien_0['points']\n",
    "print(\"You just earned \"+ str(new_points) + \" points!\")"
   ]
  },
  {
   "cell_type": "code",
   "execution_count": 10,
   "metadata": {},
   "outputs": [],
   "source": [
    "myDic = {1:23,3:56,7:100}"
   ]
  },
  {
   "cell_type": "code",
   "execution_count": 11,
   "metadata": {},
   "outputs": [],
   "source": [
    "myDic1 = {1:\"Pk\", 2: \"US\"}"
   ]
  },
  {
   "cell_type": "code",
   "execution_count": 13,
   "metadata": {},
   "outputs": [],
   "source": [
    "myDic2 = {\"name\":\"Saad\", \"f_name\":\"Khan\"}"
   ]
  },
  {
   "cell_type": "code",
   "execution_count": 14,
   "metadata": {},
   "outputs": [],
   "source": [
    "myDic3 = {\"name\":\"Dhoraji\", \"type\":\"Association\",\"Work\":\"Association\"}"
   ]
  },
  {
   "cell_type": "code",
   "execution_count": 16,
   "metadata": {},
   "outputs": [],
   "source": [
    "myDic4 = {\"type\":\"Dhoraji\", \"type\":\"Association\",\"Work\":\"Association\"}"
   ]
  },
  {
   "cell_type": "code",
   "execution_count": 17,
   "metadata": {},
   "outputs": [
    {
     "data": {
      "text/plain": [
       "'Association'"
      ]
     },
     "execution_count": 17,
     "metadata": {},
     "output_type": "execute_result"
    }
   ],
   "source": [
    "myDic4[\"type\"]"
   ]
  },
  {
   "cell_type": "code",
   "execution_count": 18,
   "metadata": {},
   "outputs": [],
   "source": [
    "myDic5 = {1:(\"que\",\"ert\")}"
   ]
  },
  {
   "cell_type": "code",
   "execution_count": 19,
   "metadata": {},
   "outputs": [
    {
     "data": {
      "text/plain": [
       "('que', 'ert')"
      ]
     },
     "execution_count": 19,
     "metadata": {},
     "output_type": "execute_result"
    }
   ],
   "source": [
    "myDic5[1]"
   ]
  },
  {
   "cell_type": "code",
   "execution_count": 20,
   "metadata": {},
   "outputs": [
    {
     "data": {
      "text/plain": [
       "'ert'"
      ]
     },
     "execution_count": 20,
     "metadata": {},
     "output_type": "execute_result"
    }
   ],
   "source": [
    "myDic5[1][1]"
   ]
  },
  {
   "cell_type": "code",
   "execution_count": 26,
   "metadata": {},
   "outputs": [],
   "source": [
    "myDic6={1:{11:111,22:222,33:333},2:{2:222,3:333,44:444}}"
   ]
  },
  {
   "cell_type": "code",
   "execution_count": 27,
   "metadata": {},
   "outputs": [
    {
     "data": {
      "text/plain": [
       "444"
      ]
     },
     "execution_count": 27,
     "metadata": {},
     "output_type": "execute_result"
    }
   ],
   "source": [
    "myDic6[2][44]"
   ]
  },
  {
   "cell_type": "code",
   "execution_count": 34,
   "metadata": {},
   "outputs": [
    {
     "name": "stdout",
     "output_type": "stream",
     "text": [
      "{'color': 'green', 'points': 5}\n",
      "{'color': 'green', 'points': 5, 'x_position': 0, 'y_position': 25}\n"
     ]
    }
   ],
   "source": [
    "#adding new key , value in dict\n",
    "alien_0 ={'color':'green','points':5}\n",
    "print(alien_0)\n",
    "alien_0['x_position']=0\n",
    "alien_0['y_position']=25\n",
    "print(alien_0)"
   ]
  },
  {
   "cell_type": "code",
   "execution_count": 57,
   "metadata": {},
   "outputs": [
    {
     "name": "stdout",
     "output_type": "stream",
     "text": [
      "{'karahi': ['favourite', 'peshawari', 'balochi'], 'sheep': 'Boti Kabab', 'Khawsay': 'Yummy', 'BBQ': 'malai boti', 'shake': 'choclate', 'ice cream': {'flavour': 'choclate', 'vanila': 'strawberry', 'blueberry': ['peanut', 'pista', 'oreo']}}\n",
      "\n",
      "peshawari\n"
     ]
    },
    {
     "data": {
      "text/plain": [
       "'oreo'"
      ]
     },
     "execution_count": 57,
     "metadata": {},
     "output_type": "execute_result"
    }
   ],
   "source": [
    "foods={}\n",
    "foods['karahi']=['favourite','peshawari','balochi']\n",
    "foods['sheep']='Boti Kabab'\n",
    "foods['Khawsay']='Yummy'\n",
    "foods['BBQ']='malai boti'\n",
    "foods['shake']='choclate'\n",
    "foods['ice cream']= {'flavour':'choclate','vanila':'strawberry','blueberry':['peanut','pista','oreo']}\n",
    "print(foods)\n",
    "print(\"\\n\"+foods['karahi'][1])\n",
    "foods['ice cream']['blueberry'][2]\n"
   ]
  },
  {
   "cell_type": "code",
   "execution_count": 62,
   "metadata": {},
   "outputs": [
    {
     "name": "stdout",
     "output_type": "stream",
     "text": [
      "Shane Robert Watson is a Australian International Cricketer.\n",
      "\n",
      " We all know that Iman ul haq PARCHI.\n"
     ]
    }
   ],
   "source": [
    "players = {'Watson': 'Australian International Cricketer'}\n",
    "print(\"Shane Robert Watson is a \" + players['Watson'] + '.') \n",
    "\n",
    "players = {'Imam ul haq': 'parchi'}\n",
    "print(\"\\n We all know that Iman ul haq \" + players['Imam ul haq'].upper() + '.')"
   ]
  },
  {
   "cell_type": "code",
   "execution_count": 63,
   "metadata": {},
   "outputs": [
    {
     "name": "stdout",
     "output_type": "stream",
     "text": [
      "Karachi is kings\n",
      "PSL4 zalmi :won2\n"
     ]
    }
   ],
   "source": [
    "psl = {'Karachi': 'kings','multan': 'sultan','zalmi' : 'won'}\n",
    "print(\"Karachi is \" +str(psl['Karachi']))\n",
    "\n",
    "if psl['zalmi']=='loser':\n",
    "    x_increment = 1\n",
    "    \n",
    "elif psl['zalmi'] == 'won':\n",
    "    x_increment = 2\n",
    "    \n",
    "else:\n",
    "    x_increment = 3\n",
    "    \n",
    "psl['zalmi'] = psl['zalmi'] + str(x_increment)\n",
    "print('PSL4 zalmi :' + str(psl['zalmi']))\n",
    "    "
   ]
  },
  {
   "cell_type": "code",
   "execution_count": null,
   "metadata": {},
   "outputs": [],
   "source": []
  }
 ],
 "metadata": {
  "kernelspec": {
   "display_name": "Python 3",
   "language": "python",
   "name": "python3"
  },
  "language_info": {
   "codemirror_mode": {
    "name": "ipython",
    "version": 3
   },
   "file_extension": ".py",
   "mimetype": "text/x-python",
   "name": "python",
   "nbconvert_exporter": "python",
   "pygments_lexer": "ipython3",
   "version": "3.7.1"
  }
 },
 "nbformat": 4,
 "nbformat_minor": 2
}
