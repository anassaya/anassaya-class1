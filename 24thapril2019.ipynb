{
 "cells": [
  {
   "cell_type": "code",
   "execution_count": null,
   "metadata": {},
   "outputs": [],
   "source": [
    "CleanCity = ['karachi' , 'Santa Fe' , 'Tucson' , 'Great Falls']\n",
    "user_input = \"\"\n",
    "while user_input != 'q':\n",
    "    user_input = input('Enter a name of the city , or press \"q\" to terminate the program: ')\n",
    "    if user_input != \"q\":\n",
    "        for CleanCitys in CleanCity:\n",
    "            if user_input == CleanCitys:\n",
    "                print(\"It's one of the cleanest city.\")\n",
    "                break\n",
    "    else:\n",
    "        print(\"It's not a cleanest city\")\n",
    "        break"
   ]
  },
  {
   "cell_type": "code",
   "execution_count": null,
   "metadata": {},
   "outputs": [],
   "source": [
    "Pizza = []\n",
    "while True:\n",
    "    flavour=input(\"Which flavour you want to try\")\n",
    "    if flavour==\"Quit\":\n",
    "        break\n",
    "    else:\n",
    "        print(\"The flavour of your pizza is \" + flavour + \".\")\n",
    "    \n",
    "    size=input(\"How much capacity you have to eat\")\n",
    "    if size==\"Quit\":\n",
    "        break\n",
    "    else:\n",
    "        print(\"The orderded size of your pizza is\" + size + \".\")\n",
    "    \n",
    "    Toppings=[\"Cheese\",\"Mushrooms\",\"Olives\",\"Mustard\",\"Chilli\"]\n",
    "    print(\"Toopings\")\n",
    "    Toopings=input(\"Here is the craziness of what you like\")\n",
    "    if Toopings ==\"Quit\":\n",
    "        break\n",
    "    else:\n",
    "        print(\"The added toppings are to make your meal delicious\") \n",
    "\n",
    "     \n",
    "    \n",
    "    \n",
    "    \n",
    "    "
   ]
  },
  {
   "cell_type": "code",
   "execution_count": null,
   "metadata": {},
   "outputs": [],
   "source": []
  }
 ],
 "metadata": {
  "kernelspec": {
   "display_name": "Python 3",
   "language": "python",
   "name": "python3"
  },
  "language_info": {
   "codemirror_mode": {
    "name": "ipython",
    "version": 3
   },
   "file_extension": ".py",
   "mimetype": "text/x-python",
   "name": "python",
   "nbconvert_exporter": "python",
   "pygments_lexer": "ipython3",
   "version": "3.7.1"
  }
 },
 "nbformat": 4,
 "nbformat_minor": 2
}
