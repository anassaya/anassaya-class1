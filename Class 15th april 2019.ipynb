{
 "cells": [
  {
   "cell_type": "markdown",
   "metadata": {},
   "source": [
    "# Dictionaries"
   ]
  },
  {
   "cell_type": "code",
   "execution_count": 1,
   "metadata": {},
   "outputs": [],
   "source": [
    "a={'key':'value'}"
   ]
  },
  {
   "cell_type": "code",
   "execution_count": 2,
   "metadata": {},
   "outputs": [
    {
     "name": "stdout",
     "output_type": "stream",
     "text": [
      "green\n",
      "5\n"
     ]
    }
   ],
   "source": [
    "alien_0 = {'color':'green','points': 5}\n",
    "print(alien_0['color'])\n",
    "print(alien_0['points'])"
   ]
  },
  {
   "cell_type": "code",
   "execution_count": 6,
   "metadata": {},
   "outputs": [
    {
     "name": "stdout",
     "output_type": "stream",
     "text": [
      "You just earned 5 points!\n"
     ]
    }
   ],
   "source": [
    "alien_0={'color':'green','points':5}\n",
    "new_points=alien_0['points']\n",
    "print(\"You just earned \"+ str(new_points) + \" points!\")"
   ]
  },
  {
   "cell_type": "code",
   "execution_count": 10,
   "metadata": {},
   "outputs": [],
   "source": [
    "myDic = {1:23,3:56,7:100}"
   ]
  },
  {
   "cell_type": "code",
   "execution_count": 11,
   "metadata": {},
   "outputs": [],
   "source": [
    "myDic1 = {1:\"Pk\", 2: \"US\"}"
   ]
  },
  {
   "cell_type": "code",
   "execution_count": 13,
   "metadata": {},
   "outputs": [],
   "source": [
    "myDic2 = {\"name\":\"Saad\", \"f_name\":\"Khan\"}"
   ]
  },
  {
   "cell_type": "code",
   "execution_count": 14,
   "metadata": {},
   "outputs": [],
   "source": [
    "myDic3 = {\"name\":\"Dhoraji\", \"type\":\"Association\",\"Work\":\"Association\"}"
   ]
  },
  {
   "cell_type": "code",
   "execution_count": 16,
   "metadata": {},
   "outputs": [],
   "source": [
    "myDic4 = {\"type\":\"Dhoraji\", \"type\":\"Association\",\"Work\":\"Association\"}"
   ]
  },
  {
   "cell_type": "code",
   "execution_count": 17,
   "metadata": {},
   "outputs": [
    {
     "data": {
      "text/plain": [
       "'Association'"
      ]
     },
     "execution_count": 17,
     "metadata": {},
     "output_type": "execute_result"
    }
   ],
   "source": [
    "myDic4[\"type\"]"
   ]
  },
  {
   "cell_type": "code",
   "execution_count": 18,
   "metadata": {},
   "outputs": [],
   "source": [
    "myDic5 = {1:(\"que\",\"ert\")}"
   ]
  },
  {
   "cell_type": "code",
   "execution_count": 19,
   "metadata": {},
   "outputs": [
    {
     "data": {
      "text/plain": [
       "('que', 'ert')"
      ]
     },
     "execution_count": 19,
     "metadata": {},
     "output_type": "execute_result"
    }
   ],
   "source": [
    "myDic5[1]"
   ]
  },
  {
   "cell_type": "code",
   "execution_count": 20,
   "metadata": {},
   "outputs": [
    {
     "data": {
      "text/plain": [
       "'ert'"
      ]
     },
     "execution_count": 20,
     "metadata": {},
     "output_type": "execute_result"
    }
   ],
   "source": [
    "myDic5[1][1]"
   ]
  },
  {
   "cell_type": "code",
   "execution_count": 26,
   "metadata": {},
   "outputs": [],
   "source": [
    "myDic6={1:{11:111,22:222,33:333},2:{2:222,3:333,44:444}}"
   ]
  },
  {
   "cell_type": "code",
   "execution_count": 27,
   "metadata": {},
   "outputs": [
    {
     "data": {
      "text/plain": [
       "444"
      ]
     },
     "execution_count": 27,
     "metadata": {},
     "output_type": "execute_result"
    }
   ],
   "source": [
    "myDic6[2][44]"
   ]
  },
  {
   "cell_type": "code",
   "execution_count": 34,
   "metadata": {},
   "outputs": [
    {
     "name": "stdout",
     "output_type": "stream",
     "text": [
      "{'color': 'green', 'points': 5}\n",
      "{'color': 'green', 'points': 5, 'x_position': 0, 'y_position': 25}\n"
     ]
    }
   ],
   "source": [
    "#adding new key , value in dict\n",
    "alien_0 ={'color':'green','points':5}\n",
    "print(alien_0)\n",
    "alien_0['x_position']=0\n",
    "alien_0['y_position']=25\n",
    "print(alien_0)"
   ]
  },
  {
   "cell_type": "code",
   "execution_count": 57,
   "metadata": {},
   "outputs": [
    {
     "name": "stdout",
     "output_type": "stream",
     "text": [
      "{'karahi': ['favourite', 'peshawari', 'balochi'], 'sheep': 'Boti Kabab', 'Khawsay': 'Yummy', 'BBQ': 'malai boti', 'shake': 'choclate', 'ice cream': {'flavour': 'choclate', 'vanila': 'strawberry', 'blueberry': ['peanut', 'pista', 'oreo']}}\n",
      "\n",
      "peshawari\n"
     ]
    },
    {
     "data": {
      "text/plain": [
       "'oreo'"
      ]
     },
     "execution_count": 57,
     "metadata": {},
     "output_type": "execute_result"
    }
   ],
   "source": [
    "foods={}\n",
    "foods['karahi']=['favourite','peshawari','balochi']\n",
    "foods['sheep']='Boti Kabab'\n",
    "foods['Khawsay']='Yummy'\n",
    "foods['BBQ']='malai boti'\n",
    "foods['shake']='choclate'\n",
    "foods['ice cream']= {'flavour':'choclate','vanila':'strawberry','blueberry':['peanut','pista','oreo']}\n",
    "print(foods)\n",
    "print(\"\\n\"+foods['karahi'][1])\n",
    "foods['ice cream']['blueberry'][2]\n"
   ]
  },
  {
   "cell_type": "code",
   "execution_count": 62,
   "metadata": {},
   "outputs": [
    {
     "name": "stdout",
     "output_type": "stream",
     "text": [
      "Shane Robert Watson is a Australian International Cricketer.\n",
      "\n",
      " We all know that Iman ul haq PARCHI.\n"
     ]
    }
   ],
   "source": [
    "players = {'Watson': 'Australian International Cricketer'}\n",
    "print(\"Shane Robert Watson is a \" + players['Watson'] + '.') \n",
    "\n",
    "players = {'Imam ul haq': 'parchi'}\n",
    "print(\"\\n We all know that Iman ul haq \" + players['Imam ul haq'].upper() + '.')"
   ]
  },
  {
   "cell_type": "code",
   "execution_count": 63,
   "metadata": {},
   "outputs": [
    {
     "name": "stdout",
     "output_type": "stream",
     "text": [
      "Karachi is kings\n",
      "PSL4 zalmi :won2\n"
     ]
    }
   ],
   "source": [
    "psl = {'Karachi': 'kings','multan': 'sultan','zalmi' : 'won'}\n",
    "print(\"Karachi is \" +str(psl['Karachi']))\n",
    "\n",
    "if psl['zalmi']=='loser':\n",
    "    x_increment = 1\n",
    "    \n",
    "elif psl['zalmi'] == 'won':\n",
    "    x_increment = 2\n",
    "    \n",
    "else:\n",
    "    x_increment = 3\n",
    "    \n",
    "psl['zalmi'] = psl['zalmi'] + str(x_increment)\n",
    "print('PSL4 zalmi :' + str(psl['zalmi']))\n",
    "    "
   ]
  },
  {
   "cell_type": "code",
   "execution_count": 1,
   "metadata": {},
   "outputs": [
    {
     "name": "stdout",
     "output_type": "stream",
     "text": [
      "\n",
      "Key: Teacher\n",
      "Value: Sir Nasir\n",
      "\n",
      "Key: Teacher_Assistant\n",
      "Value: Shahzad Ahsan\n",
      "\n",
      "Key: Student\n",
      "Value: Anas\n"
     ]
    }
   ],
   "source": [
    "user_0 = {'Teacher': 'Sir Nasir','Teacher_Assistant': 'Shahzad Ahsan','Student': 'Anas'}\n",
    "\n",
    "for key, value in user_0.items():\n",
    "    \n",
    "    \n",
    "    print(\"\\nKey: \" + key)\n",
    "    print(\"Value: \" + value)"
   ]
  },
  {
   "cell_type": "code",
   "execution_count": 2,
   "metadata": {},
   "outputs": [
    {
     "name": "stdout",
     "output_type": "stream",
     "text": [
      "My First name is Shahzad and my last name is Ahsan.\n",
      "My First name is Sara Ali and my last name is Khan.\n",
      "My First name is Komal and my last name is Aftab.\n",
      "My First name is Hassan and my last name is Dhedhi.\n"
     ]
    }
   ],
   "source": [
    "\n",
    "names = {'Shahzad':'Ahsan' , 'Sara Ali':'Khan' , 'Komal':'Aftab' , 'Hassan':'Dhedhi'}\n",
    "\n",
    "for first_name , last_name in names.items():\n",
    "    \n",
    "    print('My First name is ' + first_name.title() + ' and my last name is ' + last_name.title() + '.')"
   ]
  },
  {
   "cell_type": "markdown",
   "metadata": {},
   "source": [
    "# Looping Through All the Keys in a Dictionary"
   ]
  },
  {
   "cell_type": "code",
   "execution_count": 3,
   "metadata": {},
   "outputs": [
    {
     "name": "stdout",
     "output_type": "stream",
     "text": [
      "Dict: mobile\n",
      "Dict: batsman\n",
      "Dict: bike\n",
      "Dict: car\n"
     ]
    }
   ],
   "source": [
    "words = {'mobile':'apple' , 'batsman':'AB' , 'bike':'Heavy' , 'car':'Audi'}\n",
    "\n",
    "for word in words.keys():\n",
    "    \n",
    "    print('Dict: ' + word)"
   ]
  },
  {
   "cell_type": "code",
   "execution_count": 4,
   "metadata": {},
   "outputs": [
    {
     "name": "stdout",
     "output_type": "stream",
     "text": [
      "Dict: apple\n",
      "Dict: AB\n",
      "Dict: Heavy\n",
      "Dict: Audi\n"
     ]
    }
   ],
   "source": [
    "\n",
    "words = {'mobile':'apple' , 'batsman':'AB' , 'bike':'Heavy' , 'car':'Audi'}\n",
    "\n",
    "for word in words.values():\n",
    "    \n",
    "    print('Dict: ' + word)"
   ]
  },
  {
   "cell_type": "code",
   "execution_count": 9,
   "metadata": {},
   "outputs": [
    {
     "name": "stdout",
     "output_type": "stream",
     "text": [
      "Please write your last name also...\n"
     ]
    }
   ],
   "source": [
    "\n",
    "alien1 = {'name':'Anas' , 'color':'green' , 'height':'5.7' , 'weight':'67'}\n",
    "\n",
    "if 'last_name' not in alien1.keys():\n",
    "    \n",
    "    print(\"Please write your last name also...\")"
   ]
  },
  {
   "cell_type": "markdown",
   "metadata": {},
   "source": [
    "# Looping Through a Dictionary’s Keys in Order"
   ]
  },
  {
   "cell_type": "code",
   "execution_count": 14,
   "metadata": {},
   "outputs": [
    {
     "name": "stdout",
     "output_type": "stream",
     "text": [
      "AHMED, have a good day.\n",
      "ALI, have a good day.\n",
      "NAVEED, have a good day.\n",
      "SAIF, have a good day.\n",
      "SHEHARYAR, have a good day.\n",
      "UMER, have a good day.\n",
      "ZOHIAB, have a good day.\n"
     ]
    }
   ],
   "source": [
    "name1 = {'sheharyar':'zafar' , 'saif':'zafar' , 'zohiab':'owais' , 'umer':'najeeb' ,'ali':'khan' , 'ahmed':'amjad' , \n",
    "        'naveed':'zia'}\n",
    "\n",
    "for new_names in sorted(name1.keys()):\n",
    "    \n",
    "    print(new_names.upper() + ', have a good day.')"
   ]
  },
  {
   "cell_type": "code",
   "execution_count": 15,
   "metadata": {},
   "outputs": [
    {
     "name": "stdout",
     "output_type": "stream",
     "text": [
      "AMJAD, have a good day.\n",
      "KHAN, have a good day.\n",
      "NAJEEB, have a good day.\n",
      "OWAIS, have a good day.\n",
      "ZAFAR, have a good day.\n",
      "ZAFAR, have a good day.\n",
      "ZIA, have a good day.\n"
     ]
    }
   ],
   "source": [
    "name1 = {'sheharyar':'zafar' , 'saif':'zafar' , 'zohiab':'owais' , 'umer':'najeeb' ,'ali':'khan' , 'ahmed':'amjad' , \n",
    "        'naveed':'zia'}\n",
    "\n",
    "for new_names in sorted(name1.values()):\n",
    "    \n",
    "    print(new_names.upper() + ', have a good day.')"
   ]
  },
  {
   "cell_type": "code",
   "execution_count": 16,
   "metadata": {},
   "outputs": [],
   "source": [
    "listing = [1,4,5,7,976,56,43,89]"
   ]
  },
  {
   "cell_type": "code",
   "execution_count": 17,
   "metadata": {},
   "outputs": [],
   "source": [
    "ret= sorted(listing,reverse=True)"
   ]
  },
  {
   "cell_type": "code",
   "execution_count": 18,
   "metadata": {},
   "outputs": [
    {
     "data": {
      "text/plain": [
       "[976, 89, 56, 43, 7, 5, 4, 1]"
      ]
     },
     "execution_count": 18,
     "metadata": {},
     "output_type": "execute_result"
    }
   ],
   "source": [
    "ret"
   ]
  },
  {
   "cell_type": "code",
   "execution_count": 19,
   "metadata": {},
   "outputs": [
    {
     "data": {
      "text/plain": [
       "[1, 4, 5, 7, 976, 56, 43, 89]"
      ]
     },
     "execution_count": 19,
     "metadata": {},
     "output_type": "execute_result"
    }
   ],
   "source": [
    "listing"
   ]
  },
  {
   "cell_type": "code",
   "execution_count": 28,
   "metadata": {},
   "outputs": [],
   "source": [
    "listing2=[4,5,6,7,8,9,410,45]\n"
   ]
  },
  {
   "cell_type": "code",
   "execution_count": 43,
   "metadata": {},
   "outputs": [],
   "source": [
    "abc=list(reversed(listing2))"
   ]
  },
  {
   "cell_type": "code",
   "execution_count": 44,
   "metadata": {},
   "outputs": [
    {
     "data": {
      "text/plain": [
       "[45, 410, 9, 8, 7, 6, 5, 4]"
      ]
     },
     "execution_count": 44,
     "metadata": {},
     "output_type": "execute_result"
    }
   ],
   "source": [
    "abc"
   ]
  },
  {
   "cell_type": "code",
   "execution_count": 53,
   "metadata": {},
   "outputs": [
    {
     "name": "stdout",
     "output_type": "stream",
     "text": [
      "{'color': 'green', 'points': 5}\n",
      "{'color': 'yellow', 'points': 10}\n",
      "{'color': 'red', 'points': 15}\n"
     ]
    }
   ],
   "source": [
    "alien_0 = {'color': 'green', 'points': 5}\n",
    "alien_1 = {'color': 'yellow', 'points': 10}\n",
    "alien_2 = {'color': 'red', 'points': 15}\n",
    "\n",
    "aliens = [alien_0, alien_1, alien_2]\n",
    "\n",
    "\n",
    "for alien in aliens:\n",
    "    print(alien)"
   ]
  },
  {
   "cell_type": "code",
   "execution_count": 64,
   "metadata": {},
   "outputs": [
    {
     "name": "stdout",
     "output_type": "stream",
     "text": [
      "key is color and values in green \n",
      "key is points and values in 5 \n",
      "key is color and values in yellow \n",
      "key is points and values in 10 \n",
      "key is color and values in red \n",
      "key is points and values in 15 \n"
     ]
    }
   ],
   "source": [
    "alien_0 = {'color': 'green', 'points': 5}\n",
    "alien_1 = {'color': 'yellow', 'points': 10}\n",
    "alien_2 = {'color': 'red', 'points': 15}\n",
    "\n",
    "aliens = [alien_0, alien_1, alien_2]\n",
    "\n",
    "\n",
    "for alien in aliens:\n",
    "    for key,value in alien.items():\n",
    "        print(\"key is {} and values in {} \". format(key,value))"
   ]
  },
  {
   "cell_type": "code",
   "execution_count": 63,
   "metadata": {},
   "outputs": [
    {
     "name": "stdout",
     "output_type": "stream",
     "text": [
      "2 * 1 = 2\n",
      "2 * 2 = 4\n",
      "2 * 3 = 6\n",
      "2 * 4 = 8\n",
      "2 * 5 = 10\n",
      "2 * 6 = 12\n",
      "2 * 7 = 14\n",
      "2 * 8 = 16\n",
      "2 * 9 = 18\n",
      "2 * 10 = 20\n",
      "3 * 1 = 3\n",
      "3 * 2 = 6\n",
      "3 * 3 = 9\n",
      "3 * 4 = 12\n",
      "3 * 5 = 15\n",
      "3 * 6 = 18\n",
      "3 * 7 = 21\n",
      "3 * 8 = 24\n",
      "3 * 9 = 27\n",
      "3 * 10 = 30\n"
     ]
    }
   ],
   "source": [
    "numbers=[1,2,3,4,5,6,7,8,9,10]\n",
    "for table in [2,3]:\n",
    "    for num in numbers:\n",
    "        print(f\"{table} * {num} = {table*num}\")\n"
   ]
  },
  {
   "cell_type": "code",
   "execution_count": null,
   "metadata": {},
   "outputs": [],
   "source": []
  }
 ],
 "metadata": {
  "kernelspec": {
   "display_name": "Python 3",
   "language": "python",
   "name": "python3"
  },
  "language_info": {
   "codemirror_mode": {
    "name": "ipython",
    "version": 3
   },
   "file_extension": ".py",
   "mimetype": "text/x-python",
   "name": "python",
   "nbconvert_exporter": "python",
   "pygments_lexer": "ipython3",
   "version": "3.7.1"
  }
 },
 "nbformat": 4,
 "nbformat_minor": 2
}
